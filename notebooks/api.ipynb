{
 "cells": [
  {
   "cell_type": "code",
   "execution_count": 8,
   "metadata": {},
   "outputs": [],
   "source": [
    "from pprint import pprint\n",
    "import json\n",
    "import backend\n"
   ]
  },
  {
   "cell_type": "code",
   "execution_count": 60,
   "metadata": {},
   "outputs": [
    {
     "name": "stdout",
     "output_type": "stream",
     "text": [
      "rustresult: {\"type\": \"Marginal\", \"sub\": [\"B\"], \"exp\": {\"type\": \"Quotient\", \"numer\": {\"type\": \"Product\", \"exprs\": [{\"type\": \"Marginal\", \"sub\": [\"C\"], \"exp\": {\"type\": \"Quotient\", \"numer\": {\"type\": \"Product\", \"exprs\": [{\"type\": \"P\", \"vars\": [\"A\", \"B\", \"C\"], \"given\": []}, {\"type\": \"P\", \"vars\": [\"C\"], \"given\": []}]}, \"denom\": {\"type\": \"P\", \"vars\": [\"B\", \"C\"], \"given\": []}}}, {\"type\": \"P\", \"vars\": [\"B\", \"C\"], \"given\": []}]}, \"denom\": {\"type\": \"P\", \"vars\": [\"C\"], \"given\": []}}}\n"
     ]
    }
   ],
   "source": [
    "d = [\n",
    "    (\"A\", \"B\"),\n",
    "    (\"B\", \"C\"),\n",
    "]\n",
    "\n",
    "c = [\n",
    "    (\"A\", \"C\"),\n",
    "]\n",
    "\n",
    "res = backend.id(d, c, [\"C\"], [\"A\"], [])\n",
    "exp_json = json.loads(res)\n",
    "\n",
    "# pprint(exp_json)"
   ]
  },
  {
   "cell_type": "code",
   "execution_count": 62,
   "metadata": {},
   "outputs": [
    {
     "name": "stdout",
     "output_type": "stream",
     "text": [
      "\\sum_{B} \\big({\\sum_{C} \\big({P(A, B, C) P(C) \\over P(B, C)}\\big) P(B, C) \\over P(C)}\\big)\n"
     ]
    },
    {
     "data": {
      "text/latex": [
       "$\\displaystyle \\sum_{B} \\big({\\sum_{C} \\big({P(A, B, C) P(C) \\over P(B, C)}\\big) P(B, C) \\over P(C)}\\big)$"
      ],
      "text/plain": [
       "<IPython.core.display.Math object>"
      ]
     },
     "metadata": {},
     "output_type": "display_data"
    }
   ],
   "source": [
    "from IPython.display import display, Math\n",
    "\n",
    "parsed = Expression.parse_json(exp_json)\n",
    "tex = parsed.tex()\n",
    "print(tex)\n",
    "display(Math(tex))"
   ]
  },
  {
   "attachments": {},
   "cell_type": "markdown",
   "metadata": {},
   "source": [
    "$$\n",
    "\\sum_{B} \\Bigg( {\\sum_{C} \\big({P(A, B, C) P(C) \\over P(B, C)}\\big) P(B, C) \\over P(C)} \\Bigg)\n",
    "$$"
   ]
  },
  {
   "cell_type": "markdown",
   "metadata": {},
   "source": []
  }
 ],
 "metadata": {
  "kernelspec": {
   "display_name": "Python 3.10.0 ('venv': venv)",
   "language": "python",
   "name": "python3"
  },
  "language_info": {
   "codemirror_mode": {
    "name": "ipython",
    "version": 3
   },
   "file_extension": ".py",
   "mimetype": "text/x-python",
   "name": "python",
   "nbconvert_exporter": "python",
   "pygments_lexer": "ipython3",
   "version": "3.10.0"
  },
  "orig_nbformat": 4,
  "vscode": {
   "interpreter": {
    "hash": "87311c21b510262d54b6bd4b4f86d475820c037b82ab425c1297545ca1f293a0"
   }
  }
 },
 "nbformat": 4,
 "nbformat_minor": 2
}
