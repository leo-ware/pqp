{
 "cells": [
  {
   "cell_type": "code",
   "execution_count": 6,
   "metadata": {},
   "outputs": [],
   "source": [
    "from pqp.identification import Graph, DirectedEdge, BidirectedEdge\n",
    "from pqp.symbols import *\n",
    "import random\n",
    "from bidict import bidict"
   ]
  },
  {
   "cell_type": "code",
   "execution_count": 4,
   "metadata": {},
   "outputs": [],
   "source": [
    "V = make_vars([str(i) for i in range(n)])"
   ]
  },
  {
   "cell_type": "code",
   "execution_count": 20,
   "metadata": {},
   "outputs": [
    {
     "ename": "IndentationError",
     "evalue": "expected an indented block after function definition on line 19 (2496786019.py, line 22)",
     "output_type": "error",
     "traceback": [
      "\u001b[0;36m  Cell \u001b[0;32mIn[20], line 22\u001b[0;36m\u001b[0m\n\u001b[0;31m    def random_child(self, i):\u001b[0m\n\u001b[0m    ^\u001b[0m\n\u001b[0;31mIndentationError\u001b[0m\u001b[0;31m:\u001b[0m expected an indented block after function definition on line 19\n"
     ]
    }
   ],
   "source": [
    "class Graphish:\n",
    "    def __init__(self, n):\n",
    "        self.v = list(range(n))\n",
    "        self.kids = {i: {i + 1} for i in range(n - 1)}\n",
    "        self.kids[n - 1] = set()\n",
    "        self.parents = {i: {i - 1} for i in range(1, n)}\n",
    "        self.parents[0] = set()\n",
    "        self.edges = {(i, j) for i in range(n - 1) for j in range(i + 1, n)}\n",
    "        print(self.edges)\n",
    "    \n",
    "    def add_edge(self, i, j):\n",
    "        self.kids[i].add(j)\n",
    "        self.parents[j].add(i)\n",
    "    \n",
    "    def remove_edge(self, i, j):\n",
    "        self.kids[i].remove(j)\n",
    "        self.parents[j].remove(i)\n",
    "    \n",
    "    def random_edge(self):\n",
    "        \n",
    "    \n",
    "    def random_child(self, i):\n",
    "        if self.kids[i]:\n",
    "            return random.choice(list(self.kids[i]))\n",
    "        else:\n",
    "            return None\n",
    "    \n",
    "    def random_parent(self, i):\n",
    "        if self.parents[i]:\n",
    "            return random.choice(list(self.parents[i]))\n",
    "        else:\n",
    "            return None\n",
    "    \n",
    "    def scramble(self, n_swaps):\n",
    "        for _ in range(n_swaps):\n",
    "            node = self.random_node()\n",
    "            child = self.random_child(node)\n",
    "            if random.random() < 0.5:\n",
    "                new_child = self.random_child(child)\n",
    "            else:\n",
    "                new_child = self.random_parent(child)\n",
    "            \n",
    "            if new_child != node and new_child != None:\n",
    "                self.remove_edge(node, child)\n",
    "                self.add_edge(node, new_child)\n",
    "            else:\n",
    "                self.scramble(1)\n",
    "    \n",
    "    def to_graph(self):\n",
    "        g = Graph()\n",
    "        vs = {i: Variable(str(i)) for i in self.v}\n",
    "        for p, kids in self.kids.items():\n",
    "            for k in kids:\n",
    "                g.add_edge(DirectedEdge(vs[p], vs[k]))\n",
    "        return g"
   ]
  },
  {
   "cell_type": "code",
   "execution_count": 19,
   "metadata": {},
   "outputs": [
    {
     "ename": "KeyError",
     "evalue": "None",
     "output_type": "error",
     "traceback": [
      "\u001b[0;31m---------------------------------------------------------------------------\u001b[0m",
      "\u001b[0;31mKeyError\u001b[0m                                  Traceback (most recent call last)",
      "Cell \u001b[0;32mIn[19], line 2\u001b[0m\n\u001b[1;32m      1\u001b[0m gr \u001b[39m=\u001b[39m Graphish(\u001b[39m10\u001b[39m)\n\u001b[0;32m----> 2\u001b[0m gr\u001b[39m.\u001b[39;49mscramble(\u001b[39m10\u001b[39;49m)\n\u001b[1;32m      3\u001b[0m g \u001b[39m=\u001b[39m gr\u001b[39m.\u001b[39mto_graph()\n\u001b[1;32m      4\u001b[0m g\u001b[39m.\u001b[39mdraw()\n",
      "Cell \u001b[0;32mIn[18], line 45\u001b[0m, in \u001b[0;36mGraphish.scramble\u001b[0;34m(self, n_swaps)\u001b[0m\n\u001b[1;32m     43\u001b[0m     \u001b[39mself\u001b[39m\u001b[39m.\u001b[39madd_edge(node, new_child)\n\u001b[1;32m     44\u001b[0m \u001b[39melse\u001b[39;00m:\n\u001b[0;32m---> 45\u001b[0m     \u001b[39mself\u001b[39;49m\u001b[39m.\u001b[39;49mscramble(\u001b[39m1\u001b[39;49m)\n",
      "Cell \u001b[0;32mIn[18], line 37\u001b[0m, in \u001b[0;36mGraphish.scramble\u001b[0;34m(self, n_swaps)\u001b[0m\n\u001b[1;32m     35\u001b[0m child \u001b[39m=\u001b[39m \u001b[39mself\u001b[39m\u001b[39m.\u001b[39mrandom_child(node)\n\u001b[1;32m     36\u001b[0m \u001b[39mif\u001b[39;00m random\u001b[39m.\u001b[39mrandom() \u001b[39m<\u001b[39m \u001b[39m0.5\u001b[39m:\n\u001b[0;32m---> 37\u001b[0m     new_child \u001b[39m=\u001b[39m \u001b[39mself\u001b[39;49m\u001b[39m.\u001b[39;49mrandom_child(child)\n\u001b[1;32m     38\u001b[0m \u001b[39melse\u001b[39;00m:\n\u001b[1;32m     39\u001b[0m     new_child \u001b[39m=\u001b[39m \u001b[39mself\u001b[39m\u001b[39m.\u001b[39mrandom_parent(child)\n",
      "Cell \u001b[0;32mIn[18], line 21\u001b[0m, in \u001b[0;36mGraphish.random_child\u001b[0;34m(self, i)\u001b[0m\n\u001b[1;32m     20\u001b[0m \u001b[39mdef\u001b[39;00m \u001b[39mrandom_child\u001b[39m(\u001b[39mself\u001b[39m, i):\n\u001b[0;32m---> 21\u001b[0m     \u001b[39mif\u001b[39;00m \u001b[39mself\u001b[39;49m\u001b[39m.\u001b[39;49mkids[i]:\n\u001b[1;32m     22\u001b[0m         \u001b[39mreturn\u001b[39;00m random\u001b[39m.\u001b[39mchoice(\u001b[39mlist\u001b[39m(\u001b[39mself\u001b[39m\u001b[39m.\u001b[39mkids[i]))\n\u001b[1;32m     23\u001b[0m     \u001b[39melse\u001b[39;00m:\n",
      "\u001b[0;31mKeyError\u001b[0m: None"
     ]
    }
   ],
   "source": [
    "gr = Graphish(10)\n",
    "gr.scramble(10)\n",
    "g = gr.to_graph()\n",
    "g.draw()"
   ]
  },
  {
   "cell_type": "code",
   "execution_count": null,
   "metadata": {},
   "outputs": [],
   "source": []
  }
 ],
 "metadata": {
  "kernelspec": {
   "display_name": "venv",
   "language": "python",
   "name": "python3"
  },
  "language_info": {
   "codemirror_mode": {
    "name": "ipython",
    "version": 3
   },
   "file_extension": ".py",
   "mimetype": "text/x-python",
   "name": "python",
   "nbconvert_exporter": "python",
   "pygments_lexer": "ipython3",
   "version": "3.10.0"
  },
  "orig_nbformat": 4
 },
 "nbformat": 4,
 "nbformat_minor": 2
}
