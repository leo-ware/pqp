{
 "cells": [
  {
   "cell_type": "code",
   "execution_count": 6,
   "metadata": {},
   "outputs": [],
   "source": [
    "from pqp.variable import make_vars\n",
    "from pqp.graph import Graph\n",
    "from pqp.expression import Expression, Marginal, P, Product, Quotient\n",
    "\n",
    "import matplotlib.pyplot as plt\n",
    "import numpy as np \n",
    "import pandas as pd"
   ]
  },
  {
   "cell_type": "code",
   "execution_count": 2,
   "metadata": {},
   "outputs": [
    {
     "data": {
      "text/latex": [
       "$\\displaystyle \\sum_{z} \\big({\\sum_{x} \\big({P(z, y, x) P(x) \\over P(z, x)}\\big) P(z, x) \\over P(x)}\\big)$"
      ],
      "text/plain": [
       "<IPython.core.display.Math object>"
      ]
     },
     "metadata": {},
     "output_type": "display_data"
    }
   ],
   "source": [
    "x, y, z = make_vars(\"xyz\")\n",
    "g = Graph([\n",
    "    z <= x,\n",
    "    y <= z,\n",
    "    x & y\n",
    "])\n",
    "estimand = g.idc([y], [x])\n",
    "estimand.display()"
   ]
  },
  {
   "cell_type": "code",
   "execution_count": 3,
   "metadata": {},
   "outputs": [],
   "source": [
    "class CategoricalDistribution:\n",
    "    def __init__(self, data):\n",
    "        self.data = data\n",
    "    \n",
    "    def approx_p(expr, vars):\n",
    "        cond = expr.cond\n",
    "        \n",
    "\n",
    "    def approx_marginal(expr, vars):\n",
    "        pass\n",
    "\n",
    "    def approx_product(expr, vars):\n",
    "        pass\n",
    "\n",
    "    def approx_quotient(expr, vars):\n",
    "        pass\n",
    "\n",
    "    def approx(expr, vars = None):\n",
    "        vars = vars or {}\n",
    "        if isinstance(expr, P):\n",
    "            return self.approx_p(expr, vars)\n",
    "        elif isinstance(expr, Marginal):\n",
    "            return self.approx_marginal(expr, vars)\n",
    "        elif isinstance(expr, Product):\n",
    "            return self.approx_product(expr, vars)\n",
    "        elif isinstance(expr, Quotient):\n",
    "            return self.approx_quotient(expr, vars)\n",
    "        else:\n",
    "            raise ValueError(\"Unsupported expression type: {}\".format(type(expr)))"
   ]
  },
  {
   "cell_type": "code",
   "execution_count": 39,
   "metadata": {},
   "outputs": [
    {
     "data": {
      "text/html": [
       "<div>\n",
       "<style scoped>\n",
       "    .dataframe tbody tr th:only-of-type {\n",
       "        vertical-align: middle;\n",
       "    }\n",
       "\n",
       "    .dataframe tbody tr th {\n",
       "        vertical-align: top;\n",
       "    }\n",
       "\n",
       "    .dataframe thead th {\n",
       "        text-align: right;\n",
       "    }\n",
       "</style>\n",
       "<table border=\"1\" class=\"dataframe\">\n",
       "  <thead>\n",
       "    <tr style=\"text-align: right;\">\n",
       "      <th></th>\n",
       "      <th>x</th>\n",
       "      <th>m</th>\n",
       "      <th>y</th>\n",
       "    </tr>\n",
       "  </thead>\n",
       "  <tbody>\n",
       "    <tr>\n",
       "      <th>0</th>\n",
       "      <td>1</td>\n",
       "      <td>1.0</td>\n",
       "      <td>-1.0</td>\n",
       "    </tr>\n",
       "    <tr>\n",
       "      <th>1</th>\n",
       "      <td>1</td>\n",
       "      <td>0.0</td>\n",
       "      <td>2.0</td>\n",
       "    </tr>\n",
       "    <tr>\n",
       "      <th>2</th>\n",
       "      <td>0</td>\n",
       "      <td>-0.0</td>\n",
       "      <td>1.0</td>\n",
       "    </tr>\n",
       "    <tr>\n",
       "      <th>3</th>\n",
       "      <td>0</td>\n",
       "      <td>-2.0</td>\n",
       "      <td>3.0</td>\n",
       "    </tr>\n",
       "    <tr>\n",
       "      <th>4</th>\n",
       "      <td>0</td>\n",
       "      <td>-1.0</td>\n",
       "      <td>-0.0</td>\n",
       "    </tr>\n",
       "    <tr>\n",
       "      <th>...</th>\n",
       "      <td>...</td>\n",
       "      <td>...</td>\n",
       "      <td>...</td>\n",
       "    </tr>\n",
       "    <tr>\n",
       "      <th>995</th>\n",
       "      <td>1</td>\n",
       "      <td>-1.0</td>\n",
       "      <td>2.0</td>\n",
       "    </tr>\n",
       "    <tr>\n",
       "      <th>996</th>\n",
       "      <td>0</td>\n",
       "      <td>0.0</td>\n",
       "      <td>3.0</td>\n",
       "    </tr>\n",
       "    <tr>\n",
       "      <th>997</th>\n",
       "      <td>0</td>\n",
       "      <td>-1.0</td>\n",
       "      <td>2.0</td>\n",
       "    </tr>\n",
       "    <tr>\n",
       "      <th>998</th>\n",
       "      <td>0</td>\n",
       "      <td>1.0</td>\n",
       "      <td>-0.0</td>\n",
       "    </tr>\n",
       "    <tr>\n",
       "      <th>999</th>\n",
       "      <td>0</td>\n",
       "      <td>-1.0</td>\n",
       "      <td>3.0</td>\n",
       "    </tr>\n",
       "  </tbody>\n",
       "</table>\n",
       "<p>1000 rows × 3 columns</p>\n",
       "</div>"
      ],
      "text/plain": [
       "     x    m    y\n",
       "0    1  1.0 -1.0\n",
       "1    1  0.0  2.0\n",
       "2    0 -0.0  1.0\n",
       "3    0 -2.0  3.0\n",
       "4    0 -1.0 -0.0\n",
       "..  ..  ...  ...\n",
       "995  1 -1.0  2.0\n",
       "996  0  0.0  3.0\n",
       "997  0 -1.0  2.0\n",
       "998  0  1.0 -0.0\n",
       "999  0 -1.0  3.0\n",
       "\n",
       "[1000 rows x 3 columns]"
      ]
     },
     "execution_count": 39,
     "metadata": {},
     "output_type": "execute_result"
    }
   ],
   "source": [
    "n = 1000\n",
    "C = np.random.normal(1, 0.5, size=n)\n",
    "X = ((np.random.normal(size=n) + C) > 1).astype(int)\n",
    "M = np.round(np.random.normal(size=n) + 0.5 * X)\n",
    "Y = np.round(np.random.normal(size=n) - M + C)\n",
    "\n",
    "df = pd.DataFrame({\"x\": X, \"m\": M, \"y\": Y})\n",
    "df"
   ]
  },
  {
   "cell_type": "code",
   "execution_count": 40,
   "metadata": {},
   "outputs": [
    {
     "name": "stdout",
     "output_type": "stream",
     "text": [
      "Outcome if treated: 0.79\n",
      "Outcome if control: 0.76\n",
      "Effect of treatment (naive): 0.03\n"
     ]
    }
   ],
   "source": [
    "outcome_treated = df[df.x == 1].y.mean()\n",
    "outcome_control = df[df.x == 0].y.mean()\n",
    "\n",
    "print(\"Outcome if treated: {:.2f}\".format(outcome_treated))\n",
    "print(\"Outcome if control: {:.2f}\".format(outcome_control))\n",
    "print(\"Effect of treatment (naive): {:.2f}\".format(outcome_treated - outcome_control))"
   ]
  },
  {
   "cell_type": "code",
   "execution_count": 41,
   "metadata": {},
   "outputs": [
    {
     "data": {
      "text/plain": [
       "array([-4., -3., -2., -1.,  0.,  1.,  2.,  3.,  4.,  5.])"
      ]
     },
     "execution_count": 41,
     "metadata": {},
     "output_type": "execute_result"
    }
   ],
   "source": [
    "np.unique(df.y)"
   ]
  },
  {
   "cell_type": "code",
   "execution_count": 44,
   "metadata": {},
   "outputs": [
    {
     "name": "stdout",
     "output_type": "stream",
     "text": [
      "0.05397735042735043\n"
     ]
    }
   ],
   "source": [
    "# examine control\n",
    "x = 0\n",
    "y = 5\n",
    "\n",
    "ac = 0\n",
    "for m in np.unique(df.m):\n",
    "    denom = (df.x == x).mean()\n",
    "\n",
    "    acc = 0\n",
    "    for x in np.unique(df.x):\n",
    "        numer = ((df.x == x) & (df.m == m) & (df.y == y)).mean() * (df.x == x).mean()\n",
    "        denom = ((df.x == x) & (df.m == m)).mean()\n",
    "        acc += numer / denom\n",
    "    \n",
    "    numer = ((df.x == x) & (df.m == m)).mean() * acc\n",
    "\n",
    "    ac += numer / denom\n",
    "\n",
    "print(ac)"
   ]
  },
  {
   "cell_type": "code",
   "execution_count": 43,
   "metadata": {},
   "outputs": [
    {
     "data": {
      "text/latex": [
       "$\\displaystyle \\sum_{z} \\big({\\sum_{x} \\big({P(z, y, x) P(x) \\over P(z, x)}\\big) P(z, x) \\over P(x)}\\big)$"
      ],
      "text/plain": [
       "<IPython.core.display.Math object>"
      ]
     },
     "metadata": {},
     "output_type": "display_data"
    }
   ],
   "source": [
    "estimand.display()"
   ]
  },
  {
   "cell_type": "code",
   "execution_count": null,
   "metadata": {},
   "outputs": [],
   "source": []
  }
 ],
 "metadata": {
  "kernelspec": {
   "display_name": "venv",
   "language": "python",
   "name": "python3"
  },
  "language_info": {
   "codemirror_mode": {
    "name": "ipython",
    "version": 3
   },
   "file_extension": ".py",
   "mimetype": "text/x-python",
   "name": "python",
   "nbconvert_exporter": "python",
   "pygments_lexer": "ipython3",
   "version": "3.10.0"
  },
  "orig_nbformat": 4,
  "vscode": {
   "interpreter": {
    "hash": "bbbf304047aac1d8dfa956a63cc2cea0a93c42bcd915750832b2326b8115e97d"
   }
  }
 },
 "nbformat": 4,
 "nbformat_minor": 2
}
