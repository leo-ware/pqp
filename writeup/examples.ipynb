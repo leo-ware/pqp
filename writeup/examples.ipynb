{
 "cells": [
  {
   "cell_type": "code",
   "execution_count": 1,
   "metadata": {},
   "outputs": [],
   "source": [
    "from pqp.variable import make_vars, Variable\n",
    "from pqp.graph import Graph\n",
    "from pqp.expression import Expression, Marginal, P, Product, Quotient\n",
    "\n",
    "import matplotlib.pyplot as plt\n",
    "import numpy as np \n",
    "import pandas as pd"
   ]
  },
  {
   "cell_type": "code",
   "execution_count": 2,
   "metadata": {},
   "outputs": [
    {
     "data": {
      "text/latex": [
       "$\\displaystyle \\sum_{z} \\big({\\sum_{x} \\big({P(z, y, x) P(x) \\over P(z, x)}\\big) P(z, x) \\over P(x)}\\big)$"
      ],
      "text/plain": [
       "<IPython.core.display.Math object>"
      ]
     },
     "metadata": {},
     "output_type": "display_data"
    }
   ],
   "source": [
    "x, y, z = make_vars(\"xyz\")\n",
    "g = Graph([\n",
    "    z <= x,\n",
    "    y <= z,\n",
    "    x & y\n",
    "])\n",
    "estimand = g.idc([y], [x])\n",
    "estimand.display()"
   ]
  },
  {
   "cell_type": "code",
   "execution_count": 3,
   "metadata": {},
   "outputs": [],
   "source": [
    "I = object()\n",
    "def p(*args):\n",
    "    acc = vars = []\n",
    "    given = []\n",
    "    for arg in args:\n",
    "        if arg is I:\n",
    "            acc = given\n",
    "        elif not isinstance(arg, Variable):\n",
    "            raise ValueError(\"Expected Variable\")\n",
    "        else:\n",
    "            acc.append(arg)\n",
    "    return P(vars, given)\n",
    "\n",
    "V = Variable"
   ]
  },
  {
   "cell_type": "code",
   "execution_count": 4,
   "metadata": {},
   "outputs": [],
   "source": [
    "class attrdict(dict):\n",
    "    def __getattr__(self, key):\n",
    "        return self[key]\n",
    "\n",
    "class CategoricalDistribution:\n",
    "    def __init__(self, data, observed=None, prior=5):\n",
    "        self.data = data\n",
    "        self.n = data.shape[0]\n",
    "        self.vars = attrdict({col: V(col) for col in data.columns})\n",
    "\n",
    "        observed = observed or list(data.columns)\n",
    "        domain = 1\n",
    "        for obs in observed:\n",
    "            domain *= len(np.unique(data[obs]))\n",
    "        prior_observations = domain * prior\n",
    "\n",
    "        self.chance_prior = prior_observations / (self.n + prior_observations)\n",
    "        self.prior = self.chance_prior / domain\n",
    "    \n",
    "    def approx_p(self, expr: P, context):\n",
    "        data = self.data\n",
    "        for cond in expr.given:\n",
    "            data = data[data[cond.name] == context[cond.name]]\n",
    "\n",
    "        mask = np.ones(data.shape[0], dtype=bool)\n",
    "        for var in expr.vars:\n",
    "            if var.name not in context:\n",
    "                raise ValueError(f\"Missing context for {var.__repr__()}\")\n",
    "            mod = data[var.name] == context[var.name]\n",
    "            mask = mask & mod\n",
    "                \n",
    "        return (mask.sum() / data.shape[0])*(1-self.chance_prior) + self.prior\n",
    "    \n",
    "    def approx_marginal(self, expr: Marginal, context):\n",
    "        acc = 0\n",
    "        if expr.sub:\n",
    "            summation_var = expr.sub[0].name\n",
    "            expr = expr.expr if len(expr.sub) == 1 else Marginal(expr.sub[1:], expr.expr)\n",
    "            for val in np.unique(self.data[summation_var]):\n",
    "                acc += self.approx(expr, {summation_var: val, **context})\n",
    "        return acc\n",
    "    \n",
    "    def approx_product(self, expr: Product, context):\n",
    "        acc = 1\n",
    "        for e in expr.expr:\n",
    "            acc *= self.approx(e, context)\n",
    "        return acc\n",
    "    \n",
    "    def approx_quotient(self, expr: Quotient, context):\n",
    "        return self.approx(expr.numer, context) / self.approx(expr.denom, context)\n",
    "\n",
    "    def approx(self, expr, context = None):\n",
    "        context = context or {}\n",
    "        if isinstance(expr, P):\n",
    "            res = self.approx_p(expr, context)\n",
    "        elif isinstance(expr, Marginal):\n",
    "            res = self.approx_marginal(expr, context)\n",
    "        elif isinstance(expr, Product):\n",
    "            res = self.approx_product(expr, context)\n",
    "        elif isinstance(expr, Quotient):\n",
    "            res = self.approx_quotient(expr, context)\n",
    "        else:\n",
    "            raise ValueError(\"Unsupported expression type: {}\".format(type(expr)))\n",
    "        return res"
   ]
  },
  {
   "cell_type": "code",
   "execution_count": null,
   "metadata": {},
   "outputs": [],
   "source": [
    "dist = CategoricalDistribution(df)\n",
    "est = p(dist.vars.outcome, I, dist.vars.treatment, dist.vars.)\n",
    "dist.approx(estimand)"
   ]
  },
  {
   "cell_type": "code",
   "execution_count": 28,
   "metadata": {},
   "outputs": [
    {
     "name": "stdout",
     "output_type": "stream",
     "text": [
      "[1 0 1 1 0 1 1 0 1 0]\n",
      "[1 0 0 0 0 0 0 0 0 0]\n"
     ]
    },
    {
     "data": {
      "text/html": [
       "<div>\n",
       "<style scoped>\n",
       "    .dataframe tbody tr th:only-of-type {\n",
       "        vertical-align: middle;\n",
       "    }\n",
       "\n",
       "    .dataframe tbody tr th {\n",
       "        vertical-align: top;\n",
       "    }\n",
       "\n",
       "    .dataframe thead th {\n",
       "        text-align: right;\n",
       "    }\n",
       "</style>\n",
       "<table border=\"1\" class=\"dataframe\">\n",
       "  <thead>\n",
       "    <tr style=\"text-align: right;\">\n",
       "      <th></th>\n",
       "      <th>severity</th>\n",
       "      <th>treatment</th>\n",
       "      <th>pathway</th>\n",
       "      <th>outcome</th>\n",
       "    </tr>\n",
       "  </thead>\n",
       "  <tbody>\n",
       "    <tr>\n",
       "      <th>0</th>\n",
       "      <td>3</td>\n",
       "      <td>0</td>\n",
       "      <td>0</td>\n",
       "      <td>3</td>\n",
       "    </tr>\n",
       "    <tr>\n",
       "      <th>1</th>\n",
       "      <td>0</td>\n",
       "      <td>0</td>\n",
       "      <td>0</td>\n",
       "      <td>0</td>\n",
       "    </tr>\n",
       "    <tr>\n",
       "      <th>2</th>\n",
       "      <td>2</td>\n",
       "      <td>1</td>\n",
       "      <td>-1</td>\n",
       "      <td>1</td>\n",
       "    </tr>\n",
       "    <tr>\n",
       "      <th>3</th>\n",
       "      <td>2</td>\n",
       "      <td>1</td>\n",
       "      <td>-1</td>\n",
       "      <td>1</td>\n",
       "    </tr>\n",
       "    <tr>\n",
       "      <th>4</th>\n",
       "      <td>1</td>\n",
       "      <td>0</td>\n",
       "      <td>0</td>\n",
       "      <td>1</td>\n",
       "    </tr>\n",
       "    <tr>\n",
       "      <th>5</th>\n",
       "      <td>2</td>\n",
       "      <td>1</td>\n",
       "      <td>-1</td>\n",
       "      <td>1</td>\n",
       "    </tr>\n",
       "    <tr>\n",
       "      <th>6</th>\n",
       "      <td>3</td>\n",
       "      <td>1</td>\n",
       "      <td>-1</td>\n",
       "      <td>2</td>\n",
       "    </tr>\n",
       "    <tr>\n",
       "      <th>7</th>\n",
       "      <td>0</td>\n",
       "      <td>0</td>\n",
       "      <td>0</td>\n",
       "      <td>0</td>\n",
       "    </tr>\n",
       "    <tr>\n",
       "      <th>8</th>\n",
       "      <td>2</td>\n",
       "      <td>1</td>\n",
       "      <td>-1</td>\n",
       "      <td>1</td>\n",
       "    </tr>\n",
       "    <tr>\n",
       "      <th>9</th>\n",
       "      <td>1</td>\n",
       "      <td>0</td>\n",
       "      <td>0</td>\n",
       "      <td>1</td>\n",
       "    </tr>\n",
       "  </tbody>\n",
       "</table>\n",
       "</div>"
      ],
      "text/plain": [
       "   severity  treatment  pathway  outcome\n",
       "0         3          0        0        3\n",
       "1         0          0        0        0\n",
       "2         2          1       -1        1\n",
       "3         2          1       -1        1\n",
       "4         1          0        0        1\n",
       "5         2          1       -1        1\n",
       "6         3          1       -1        2\n",
       "7         0          0        0        0\n",
       "8         2          1       -1        1\n",
       "9         1          0        0        1"
      ]
     },
     "execution_count": 28,
     "metadata": {},
     "output_type": "execute_result"
    }
   ],
   "source": [
    "np.random.seed(137)\n",
    "n = 10\n",
    "\n",
    "severity = np.random.binomial(3, 0.5, size=n)\n",
    "doctor_noise = np.random.binomial(1, 0.1, size=n)\n",
    "print((severity > 1).astype(int))\n",
    "print(doctor_noise)\n",
    "treatment = ((severity > 1) != doctor_noise).astype(int)\n",
    "\n",
    "# print(treatment)\n",
    "\n",
    "pathway_predisposition = 0# np.random.binomial(2, 0.5, size=n)\n",
    "pathway = pathway_predisposition - treatment\n",
    "\n",
    "outcome_noise = 0#np.random.binomial(2, 0.5, size=n)\n",
    "outcome = pathway + severity + outcome_noise\n",
    "\n",
    "model_vars = {}\n",
    "for name in [\"severity\", \"treatment\", \"pathway\", \"outcome\"]:\n",
    "    model_vars[name] = Variable(name)\n",
    "\n",
    "df = pd.DataFrame({\n",
    "    \"severity\": severity,\n",
    "    \"treatment\": treatment,\n",
    "    \"pathway\": pathway,\n",
    "    \"outcome\": outcome,\n",
    "})\n",
    "\n",
    "df.head(10)"
   ]
  },
  {
   "cell_type": "code",
   "execution_count": 29,
   "metadata": {},
   "outputs": [
    {
     "name": "stdout",
     "output_type": "stream",
     "text": [
      "treat outcome: 1.2\n",
      "control outcome: 1.0\n",
      "treatment effect (naive): 0.19999999999999996\n"
     ]
    }
   ],
   "source": [
    "treat_outcome = df.outcome[df.treatment == 1].mean()\n",
    "control_outcome = df.outcome[df.treatment == 0].mean()\n",
    "\n",
    "print(f\"treat outcome: {treat_outcome}\")\n",
    "print(f\"control outcome: {control_outcome}\")\n",
    "print(f\"treatment effect (naive): {treat_outcome - control_outcome}\")"
   ]
  },
  {
   "cell_type": "code",
   "execution_count": 46,
   "metadata": {},
   "outputs": [],
   "source": [
    "class Model:\n",
    "    def __init__(self, dist, graph):\n",
    "        self.dist = dist\n",
    "        self.graph = graph\n",
    "    \n",
    "    def estimand(self, y, x=None, z=None):\n",
    "        if x == None:\n",
    "            x = []\n",
    "        if z == None:\n",
    "            z = []\n",
    "        return self.graph.idc(y=[V(y)], x=[V(i) for i in x], z=[V(i) for i in z])\n",
    "    \n",
    "    def expectation(self, var, do=None, given=None):\n",
    "        do = do or {}\n",
    "        given = given or {}\n",
    "        estimand = self.estimand(var, do.keys(), given.keys())\n",
    "\n",
    "        acc = 0\n",
    "        prob_acc = 0\n",
    "        for val in np.unique(dist.data[var]):\n",
    "            prob = self.dist.approx(estimand, {var: val, **do, **given})\n",
    "            prob_acc += 1\n",
    "            acc += prob * val\n",
    "            print(prob, val)\n",
    "        \n",
    "        if abs(prob_acc - 1) > 1e-6:\n",
    "            raise Exception(f\"Probabilities do not sum to 1 (eps ~= {abs(prob_acc - 1)})\")\n",
    "\n",
    "        return acc"
   ]
  },
  {
   "cell_type": "code",
   "execution_count": 47,
   "metadata": {},
   "outputs": [],
   "source": [
    "prior = 0.01"
   ]
  },
  {
   "cell_type": "code",
   "execution_count": 48,
   "metadata": {},
   "outputs": [
    {
     "name": "stdout",
     "output_type": "stream",
     "text": [
      "0.015748031496062992\n"
     ]
    },
    {
     "data": {
      "text/latex": [
       "$\\displaystyle \\sum_{pathway} \\big({\\sum_{treatment} \\big({P(pathway, outcome, treatment) P(treatment) \\over P(pathway, treatment)}\\big) P(pathway, treatment) \\over P(treatment)}\\big)$"
      ],
      "text/plain": [
       "<IPython.core.display.Math object>"
      ]
     },
     "metadata": {},
     "output_type": "display_data"
    },
    {
     "name": "stdout",
     "output_type": "stream",
     "text": [
      "0.39763779527559057 0\n",
      "0.39763779527559057 1\n",
      "0.003937007874015748 2\n",
      "0.20078740157480315 3\n"
     ]
    },
    {
     "ename": "Exception",
     "evalue": "Probabilities do not sum to 1 (eps ~= 3)",
     "output_type": "error",
     "traceback": [
      "\u001b[0;31m---------------------------------------------------------------------------\u001b[0m",
      "\u001b[0;31mException\u001b[0m                                 Traceback (most recent call last)",
      "Cell \u001b[0;32mIn[48], line 12\u001b[0m\n\u001b[1;32m      9\u001b[0m \u001b[39mprint\u001b[39m(dist\u001b[39m.\u001b[39mchance_prior)\n\u001b[1;32m     10\u001b[0m model\u001b[39m.\u001b[39mestimand(\u001b[39m\"\u001b[39m\u001b[39moutcome\u001b[39m\u001b[39m\"\u001b[39m, [\u001b[39m\"\u001b[39m\u001b[39mtreatment\u001b[39m\u001b[39m\"\u001b[39m])\u001b[39m.\u001b[39mdisplay()\n\u001b[0;32m---> 12\u001b[0m outcome_control \u001b[39m=\u001b[39m model\u001b[39m.\u001b[39;49mexpectation(\u001b[39m\"\u001b[39;49m\u001b[39moutcome\u001b[39;49m\u001b[39m\"\u001b[39;49m, do\u001b[39m=\u001b[39;49m{\u001b[39m\"\u001b[39;49m\u001b[39mtreatment\u001b[39;49m\u001b[39m\"\u001b[39;49m: \u001b[39m0\u001b[39;49m})\n\u001b[1;32m     13\u001b[0m outcome_treat \u001b[39m=\u001b[39m model\u001b[39m.\u001b[39mexpectation(\u001b[39m\"\u001b[39m\u001b[39moutcome\u001b[39m\u001b[39m\"\u001b[39m, do\u001b[39m=\u001b[39m{\u001b[39m\"\u001b[39m\u001b[39mtreatment\u001b[39m\u001b[39m\"\u001b[39m: \u001b[39m1\u001b[39m})\n\u001b[1;32m     14\u001b[0m \u001b[39mprint\u001b[39m(\u001b[39mf\u001b[39m\u001b[39m\"\u001b[39m\u001b[39mtreat outcome: \u001b[39m\u001b[39m{\u001b[39;00moutcome_treat\u001b[39m}\u001b[39;00m\u001b[39m\"\u001b[39m)\n",
      "Cell \u001b[0;32mIn[46], line 27\u001b[0m, in \u001b[0;36mModel.expectation\u001b[0;34m(self, var, do, given)\u001b[0m\n\u001b[1;32m     24\u001b[0m     \u001b[39mprint\u001b[39m(prob, val)\n\u001b[1;32m     26\u001b[0m \u001b[39mif\u001b[39;00m \u001b[39mabs\u001b[39m(prob_acc \u001b[39m-\u001b[39m \u001b[39m1\u001b[39m) \u001b[39m>\u001b[39m \u001b[39m1e-6\u001b[39m:\n\u001b[0;32m---> 27\u001b[0m     \u001b[39mraise\u001b[39;00m \u001b[39mException\u001b[39;00m(\u001b[39mf\u001b[39m\u001b[39m\"\u001b[39m\u001b[39mProbabilities do not sum to 1 (eps ~= \u001b[39m\u001b[39m{\u001b[39;00m\u001b[39mabs\u001b[39m(prob_acc\u001b[39m \u001b[39m\u001b[39m-\u001b[39m\u001b[39m \u001b[39m\u001b[39m1\u001b[39m)\u001b[39m}\u001b[39;00m\u001b[39m)\u001b[39m\u001b[39m\"\u001b[39m)\n\u001b[1;32m     29\u001b[0m \u001b[39mreturn\u001b[39;00m acc\n",
      "\u001b[0;31mException\u001b[0m: Probabilities do not sum to 1 (eps ~= 3)"
     ]
    }
   ],
   "source": [
    "dist = CategoricalDistribution(df, observed=[\"treatment\", \"outcome\", \"pathway\"], prior=prior)\n",
    "graph = Graph([\n",
    "    dist.vars.pathway <= dist.vars.treatment,\n",
    "    dist.vars.outcome <= dist.vars.pathway,\n",
    "    dist.vars.outcome & dist.vars.treatment,\n",
    "])\n",
    "model = Model(dist, graph)\n",
    "\n",
    "print(dist.chance_prior)\n",
    "model.estimand(\"outcome\", [\"treatment\"]).display()\n",
    "\n",
    "outcome_control = model.expectation(\"outcome\", do={\"treatment\": 0})\n",
    "outcome_treat = model.expectation(\"outcome\", do={\"treatment\": 1})\n",
    "print(f\"treat outcome: {outcome_treat}\")\n",
    "print(f\"control outcome: {outcome_control}\")\n",
    "print(f\"treatment effect (my model): {outcome_treat - outcome_control}\")"
   ]
  },
  {
   "cell_type": "code",
   "execution_count": 49,
   "metadata": {},
   "outputs": [
    {
     "name": "stdout",
     "output_type": "stream",
     "text": [
      "0.015748031496062992\n"
     ]
    },
    {
     "data": {
      "text/latex": [
       "$\\displaystyle \\sum_{pathway} \\big({P(pathway, outcome, treatment) \\over P(treatment)}\\big)$"
      ],
      "text/plain": [
       "<IPython.core.display.Math object>"
      ]
     },
     "metadata": {},
     "output_type": "display_data"
    },
    {
     "name": "stdout",
     "output_type": "stream",
     "text": [
      "0.4031936127744511 0\n",
      "0.4031936127744511 1\n",
      "0.003992015968063872 2\n",
      "0.20359281437125748 3\n"
     ]
    },
    {
     "ename": "Exception",
     "evalue": "Probabilities do not sum to 1 (eps ~= 3)",
     "output_type": "error",
     "traceback": [
      "\u001b[0;31m---------------------------------------------------------------------------\u001b[0m",
      "\u001b[0;31mException\u001b[0m                                 Traceback (most recent call last)",
      "Cell \u001b[0;32mIn[49], line 11\u001b[0m\n\u001b[1;32m      8\u001b[0m \u001b[39mprint\u001b[39m(dist\u001b[39m.\u001b[39mchance_prior)\n\u001b[1;32m      9\u001b[0m model\u001b[39m.\u001b[39mestimand(\u001b[39m\"\u001b[39m\u001b[39moutcome\u001b[39m\u001b[39m\"\u001b[39m, [\u001b[39m\"\u001b[39m\u001b[39mtreatment\u001b[39m\u001b[39m\"\u001b[39m])\u001b[39m.\u001b[39mdisplay()\n\u001b[0;32m---> 11\u001b[0m outcome_control \u001b[39m=\u001b[39m model\u001b[39m.\u001b[39;49mexpectation(\u001b[39m\"\u001b[39;49m\u001b[39moutcome\u001b[39;49m\u001b[39m\"\u001b[39;49m, do\u001b[39m=\u001b[39;49m{\u001b[39m\"\u001b[39;49m\u001b[39mtreatment\u001b[39;49m\u001b[39m\"\u001b[39;49m: \u001b[39m0\u001b[39;49m})\n\u001b[1;32m     12\u001b[0m outcome_treat \u001b[39m=\u001b[39m model\u001b[39m.\u001b[39mexpectation(\u001b[39m\"\u001b[39m\u001b[39moutcome\u001b[39m\u001b[39m\"\u001b[39m, do\u001b[39m=\u001b[39m{\u001b[39m\"\u001b[39m\u001b[39mtreatment\u001b[39m\u001b[39m\"\u001b[39m: \u001b[39m1\u001b[39m})\n\u001b[1;32m     13\u001b[0m \u001b[39mprint\u001b[39m(\u001b[39mf\u001b[39m\u001b[39m\"\u001b[39m\u001b[39mtreat outcome: \u001b[39m\u001b[39m{\u001b[39;00moutcome_treat\u001b[39m}\u001b[39;00m\u001b[39m\"\u001b[39m)\n",
      "Cell \u001b[0;32mIn[46], line 27\u001b[0m, in \u001b[0;36mModel.expectation\u001b[0;34m(self, var, do, given)\u001b[0m\n\u001b[1;32m     24\u001b[0m     \u001b[39mprint\u001b[39m(prob, val)\n\u001b[1;32m     26\u001b[0m \u001b[39mif\u001b[39;00m \u001b[39mabs\u001b[39m(prob_acc \u001b[39m-\u001b[39m \u001b[39m1\u001b[39m) \u001b[39m>\u001b[39m \u001b[39m1e-6\u001b[39m:\n\u001b[0;32m---> 27\u001b[0m     \u001b[39mraise\u001b[39;00m \u001b[39mException\u001b[39;00m(\u001b[39mf\u001b[39m\u001b[39m\"\u001b[39m\u001b[39mProbabilities do not sum to 1 (eps ~= \u001b[39m\u001b[39m{\u001b[39;00m\u001b[39mabs\u001b[39m(prob_acc\u001b[39m \u001b[39m\u001b[39m-\u001b[39m\u001b[39m \u001b[39m\u001b[39m1\u001b[39m)\u001b[39m}\u001b[39;00m\u001b[39m)\u001b[39m\u001b[39m\"\u001b[39m)\n\u001b[1;32m     29\u001b[0m \u001b[39mreturn\u001b[39;00m acc\n",
      "\u001b[0;31mException\u001b[0m: Probabilities do not sum to 1 (eps ~= 3)"
     ]
    }
   ],
   "source": [
    "dist = CategoricalDistribution(df, observed=[\"treatment\", \"outcome\", \"pathway\"], prior=prior)\n",
    "graph = Graph([\n",
    "    dist.vars.pathway <= dist.vars.treatment,\n",
    "    dist.vars.outcome <= dist.vars.pathway,\n",
    "])\n",
    "model = Model(dist, graph)\n",
    "\n",
    "print(dist.chance_prior)\n",
    "model.estimand(\"outcome\", [\"treatment\"]).display()\n",
    "\n",
    "outcome_control = model.expectation(\"outcome\", do={\"treatment\": 0})\n",
    "outcome_treat = model.expectation(\"outcome\", do={\"treatment\": 1})\n",
    "print(f\"treat outcome: {outcome_treat}\")\n",
    "print(f\"control outcome: {outcome_control}\")\n",
    "print(f\"treatment effect (bad model): {outcome_treat - outcome_control}\")"
   ]
  },
  {
   "cell_type": "code",
   "execution_count": 50,
   "metadata": {},
   "outputs": [
    {
     "name": "stdout",
     "output_type": "stream",
     "text": [
      "0.015748031496062992\n"
     ]
    },
    {
     "data": {
      "text/latex": [
       "$\\displaystyle \\sum_{severity} \\big({P(severity) P(severity, outcome, treatment) \\over P(severity, treatment)}\\big)$"
      ],
      "text/plain": [
       "<IPython.core.display.Math object>"
      ]
     },
     "metadata": {},
     "output_type": "display_data"
    },
    {
     "name": "stdout",
     "output_type": "stream",
     "text": [
      "0.5917808824395704 0\n",
      "0.5917808824395704 1\n",
      "0.394930488738783 2\n",
      "0.5915354330708662 3\n"
     ]
    },
    {
     "ename": "Exception",
     "evalue": "Probabilities do not sum to 1 (eps ~= 3)",
     "output_type": "error",
     "traceback": [
      "\u001b[0;31m---------------------------------------------------------------------------\u001b[0m",
      "\u001b[0;31mException\u001b[0m                                 Traceback (most recent call last)",
      "Cell \u001b[0;32mIn[50], line 14\u001b[0m\n\u001b[1;32m     11\u001b[0m \u001b[39mprint\u001b[39m(dist\u001b[39m.\u001b[39mchance_prior)\n\u001b[1;32m     12\u001b[0m model\u001b[39m.\u001b[39mestimand(\u001b[39m\"\u001b[39m\u001b[39moutcome\u001b[39m\u001b[39m\"\u001b[39m, [\u001b[39m\"\u001b[39m\u001b[39mtreatment\u001b[39m\u001b[39m\"\u001b[39m])\u001b[39m.\u001b[39mdisplay()\n\u001b[0;32m---> 14\u001b[0m outcome_control \u001b[39m=\u001b[39m model\u001b[39m.\u001b[39;49mexpectation(\u001b[39m\"\u001b[39;49m\u001b[39moutcome\u001b[39;49m\u001b[39m\"\u001b[39;49m, do\u001b[39m=\u001b[39;49m{\u001b[39m\"\u001b[39;49m\u001b[39mtreatment\u001b[39;49m\u001b[39m\"\u001b[39;49m: \u001b[39m0\u001b[39;49m})\n\u001b[1;32m     15\u001b[0m outcome_treat \u001b[39m=\u001b[39m model\u001b[39m.\u001b[39mexpectation(\u001b[39m\"\u001b[39m\u001b[39moutcome\u001b[39m\u001b[39m\"\u001b[39m, do\u001b[39m=\u001b[39m{\u001b[39m\"\u001b[39m\u001b[39mtreatment\u001b[39m\u001b[39m\"\u001b[39m: \u001b[39m1\u001b[39m})\n\u001b[1;32m     16\u001b[0m \u001b[39mprint\u001b[39m(\u001b[39mf\u001b[39m\u001b[39m\"\u001b[39m\u001b[39mtreat outcome: \u001b[39m\u001b[39m{\u001b[39;00moutcome_treat\u001b[39m}\u001b[39;00m\u001b[39m\"\u001b[39m)\n",
      "Cell \u001b[0;32mIn[46], line 27\u001b[0m, in \u001b[0;36mModel.expectation\u001b[0;34m(self, var, do, given)\u001b[0m\n\u001b[1;32m     24\u001b[0m     \u001b[39mprint\u001b[39m(prob, val)\n\u001b[1;32m     26\u001b[0m \u001b[39mif\u001b[39;00m \u001b[39mabs\u001b[39m(prob_acc \u001b[39m-\u001b[39m \u001b[39m1\u001b[39m) \u001b[39m>\u001b[39m \u001b[39m1e-6\u001b[39m:\n\u001b[0;32m---> 27\u001b[0m     \u001b[39mraise\u001b[39;00m \u001b[39mException\u001b[39;00m(\u001b[39mf\u001b[39m\u001b[39m\"\u001b[39m\u001b[39mProbabilities do not sum to 1 (eps ~= \u001b[39m\u001b[39m{\u001b[39;00m\u001b[39mabs\u001b[39m(prob_acc\u001b[39m \u001b[39m\u001b[39m-\u001b[39m\u001b[39m \u001b[39m\u001b[39m1\u001b[39m)\u001b[39m}\u001b[39;00m\u001b[39m)\u001b[39m\u001b[39m\"\u001b[39m)\n\u001b[1;32m     29\u001b[0m \u001b[39mreturn\u001b[39;00m acc\n",
      "\u001b[0;31mException\u001b[0m: Probabilities do not sum to 1 (eps ~= 3)"
     ]
    }
   ],
   "source": [
    "dist = CategoricalDistribution(df, prior=prior/4)\n",
    "graph = Graph([\n",
    "    # dist.vars.pathway <= dist.vars.treatment,\n",
    "    # dist.vars.outcome <= dist.vars.pathway,\n",
    "    dist.vars.outcome <= dist.vars.treatment,\n",
    "    dist.vars.treatment <= dist.vars.severity,\n",
    "    dist.vars.outcome <= dist.vars.severity,\n",
    "])\n",
    "model = Model(dist, graph)\n",
    "\n",
    "print(dist.chance_prior)\n",
    "model.estimand(\"outcome\", [\"treatment\"]).display()\n",
    "\n",
    "outcome_control = model.expectation(\"outcome\", do={\"treatment\": 0})\n",
    "outcome_treat = model.expectation(\"outcome\", do={\"treatment\": 1})\n",
    "print(f\"treat outcome: {outcome_treat}\")\n",
    "print(f\"control outcome: {outcome_control}\")\n",
    "print(f\"treatment effect (god): {outcome_treat - outcome_control}\")"
   ]
  },
  {
   "cell_type": "code",
   "execution_count": null,
   "metadata": {},
   "outputs": [],
   "source": []
  }
 ],
 "metadata": {
  "kernelspec": {
   "display_name": "venv",
   "language": "python",
   "name": "python3"
  },
  "language_info": {
   "codemirror_mode": {
    "name": "ipython",
    "version": 3
   },
   "file_extension": ".py",
   "mimetype": "text/x-python",
   "name": "python",
   "nbconvert_exporter": "python",
   "pygments_lexer": "ipython3",
   "version": "3.10.0"
  },
  "orig_nbformat": 4,
  "vscode": {
   "interpreter": {
    "hash": "bbbf304047aac1d8dfa956a63cc2cea0a93c42bcd915750832b2326b8115e97d"
   }
  }
 },
 "nbformat": 4,
 "nbformat_minor": 2
}
