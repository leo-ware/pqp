{
 "cells": [
  {
   "cell_type": "code",
   "execution_count": 6,
   "metadata": {},
   "outputs": [
    {
     "ename": "ModuleNotFoundError",
     "evalue": "No module named 'pqp.variable'",
     "output_type": "error",
     "traceback": [
      "\u001b[0;31m---------------------------------------------------------------------------\u001b[0m",
      "\u001b[0;31mModuleNotFoundError\u001b[0m                       Traceback (most recent call last)",
      "Cell \u001b[0;32mIn[6], line 1\u001b[0m\n\u001b[0;32m----> 1\u001b[0m \u001b[39mfrom\u001b[39;00m \u001b[39mpqp\u001b[39;00m\u001b[39m.\u001b[39;00m\u001b[39mvariable\u001b[39;00m \u001b[39mimport\u001b[39;00m make_vars, Variable\n\u001b[1;32m      2\u001b[0m \u001b[39mfrom\u001b[39;00m \u001b[39mpqp\u001b[39;00m\u001b[39m.\u001b[39;00m\u001b[39mgraph\u001b[39;00m \u001b[39mimport\u001b[39;00m Graph\n\u001b[1;32m      3\u001b[0m \u001b[39mfrom\u001b[39;00m \u001b[39mpqp\u001b[39;00m\u001b[39m.\u001b[39;00m\u001b[39mexpression\u001b[39;00m \u001b[39mimport\u001b[39;00m Expression, Marginal, P, Product, Quotient\n",
      "\u001b[0;31mModuleNotFoundError\u001b[0m: No module named 'pqp.variable'"
     ]
    }
   ],
   "source": [
    "from pqp.variable import make_vars, Variable\n",
    "from pqp.graph import Graph\n",
    "from pqp.expression import Expression, Marginal, P, Product, Quotient\n",
    "from pqp import CategoricalDistribution\n",
    "\n",
    "import matplotlib.pyplot as plt\n",
    "import numpy as np\n",
    "import pandas as pd"
   ]
  },
  {
   "cell_type": "code",
   "execution_count": null,
   "metadata": {},
   "outputs": [
    {
     "data": {
      "text/latex": [
       "$\\displaystyle \\sum_{z} \\big({\\sum_{x} \\big({P(z, y, x) P(x) \\over P(z, x)}\\big) P(z, x) \\over P(x)}\\big)$"
      ],
      "text/plain": [
       "<IPython.core.display.Math object>"
      ]
     },
     "metadata": {},
     "output_type": "display_data"
    }
   ],
   "source": [
    "x, y, z = make_vars(\"xyz\")\n",
    "g = Graph([\n",
    "    z <= x,\n",
    "    y <= z,\n",
    "    x & y\n",
    "])\n",
    "estimand = g.idc([y], [x])\n",
    "estimand.display()"
   ]
  },
  {
   "cell_type": "code",
   "execution_count": null,
   "metadata": {},
   "outputs": [],
   "source": [
    "I = object()\n",
    "def p(*args):\n",
    "    acc = vars = []\n",
    "    given = []\n",
    "    for arg in args:\n",
    "        if arg is I:\n",
    "            acc = given\n",
    "        elif not isinstance(arg, Variable):\n",
    "            raise ValueError(\"Expected Variable\")\n",
    "        else:\n",
    "            acc.append(arg)\n",
    "    return P(vars, given)\n",
    "\n",
    "V = Variable"
   ]
  },
  {
   "cell_type": "code",
   "execution_count": null,
   "metadata": {},
   "outputs": [],
   "source": []
  },
  {
   "cell_type": "code",
   "execution_count": null,
   "metadata": {},
   "outputs": [
    {
     "data": {
      "text/html": [
       "<div>\n",
       "<style scoped>\n",
       "    .dataframe tbody tr th:only-of-type {\n",
       "        vertical-align: middle;\n",
       "    }\n",
       "\n",
       "    .dataframe tbody tr th {\n",
       "        vertical-align: top;\n",
       "    }\n",
       "\n",
       "    .dataframe thead th {\n",
       "        text-align: right;\n",
       "    }\n",
       "</style>\n",
       "<table border=\"1\" class=\"dataframe\">\n",
       "  <thead>\n",
       "    <tr style=\"text-align: right;\">\n",
       "      <th></th>\n",
       "      <th>severity</th>\n",
       "      <th>treatment</th>\n",
       "      <th>pathway</th>\n",
       "      <th>outcome</th>\n",
       "    </tr>\n",
       "  </thead>\n",
       "  <tbody>\n",
       "    <tr>\n",
       "      <th>0</th>\n",
       "      <td>0</td>\n",
       "      <td>0</td>\n",
       "      <td>1</td>\n",
       "      <td>1</td>\n",
       "    </tr>\n",
       "    <tr>\n",
       "      <th>1</th>\n",
       "      <td>1</td>\n",
       "      <td>1</td>\n",
       "      <td>0</td>\n",
       "      <td>1</td>\n",
       "    </tr>\n",
       "  </tbody>\n",
       "</table>\n",
       "</div>"
      ],
      "text/plain": [
       "   severity  treatment  pathway  outcome\n",
       "0         0          0        1        1\n",
       "1         1          1        0        1"
      ]
     },
     "execution_count": 9,
     "metadata": {},
     "output_type": "execute_result"
    }
   ],
   "source": [
    "np.random.seed(137)\n",
    "n = 5\n",
    "\n",
    "# severity = np.random.binomial(3, 0.5, size=n)\n",
    "# doctor_noise = np.random.binomial(1, 0.1, size=n)\n",
    "# print((severity > 1).astype(int))\n",
    "# print(doctor_noise)\n",
    "# treatment = ((severity > 1) != doctor_noise).astype(int)\n",
    "\n",
    "# # print(treatment)\n",
    "\n",
    "# pathway_predisposition = 0# np.random.binomial(2, 0.5, size=n)\n",
    "# pathway = pathway_predisposition - treatment\n",
    "\n",
    "# outcome_noise = 0#np.random.binomial(2, 0.5, size=n)\n",
    "# outcome = pathway + severity + outcome_noise\n",
    "\n",
    "severity = np.array([0, 1])\n",
    "treatment = np.array(severity)\n",
    "pathway = (1-treatment)\n",
    "outcome = severity + pathway\n",
    "\n",
    "\n",
    "model_vars = {}\n",
    "for name in [\"severity\", \"treatment\", \"pathway\", \"outcome\"]:\n",
    "    model_vars[name] = Variable(name)\n",
    "\n",
    "df = pd.DataFrame({\n",
    "    \"severity\": severity,\n",
    "    \"treatment\": treatment,\n",
    "    \"pathway\": pathway,\n",
    "    \"outcome\": outcome,\n",
    "})\n",
    "\n",
    "dist = CategoricalDistribution(df, prior=1)\n",
    "df.head(10)"
   ]
  },
  {
   "cell_type": "code",
   "execution_count": null,
   "metadata": {},
   "outputs": [
    {
     "data": {
      "text/plain": [
       "0.3333333333333333"
      ]
     },
     "execution_count": 10,
     "metadata": {},
     "output_type": "execute_result"
    }
   ],
   "source": [
    "dist.approx(P([dist.vars.outcome], [dist.vars.treatment]), {\"outcome\": 0, \"treatment\": 0})"
   ]
  },
  {
   "cell_type": "code",
   "execution_count": 2,
   "metadata": {},
   "outputs": [
    {
     "ename": "NameError",
     "evalue": "name 'dist' is not defined",
     "output_type": "error",
     "traceback": [
      "\u001b[0;31m---------------------------------------------------------------------------\u001b[0m",
      "\u001b[0;31mNameError\u001b[0m                                 Traceback (most recent call last)",
      "Cell \u001b[0;32mIn[2], line 15\u001b[0m\n\u001b[1;32m     13\u001b[0m                 _p\u001b[39m.\u001b[39mappend(p)\n\u001b[1;32m     14\u001b[0m                 _o\u001b[39m.\u001b[39mappend(o)\n\u001b[0;32m---> 15\u001b[0m                 prob \u001b[39m=\u001b[39m dist\u001b[39m.\u001b[39mapprox(P([dist\u001b[39m.\u001b[39mvars\u001b[39m.\u001b[39moutcome, dist\u001b[39m.\u001b[39mvars\u001b[39m.\u001b[39mpathway, dist\u001b[39m.\u001b[39mvars\u001b[39m.\u001b[39mtreatment, dist\u001b[39m.\u001b[39mvars\u001b[39m.\u001b[39mseverity]), {\u001b[39m\"\u001b[39m\u001b[39moutcome\u001b[39m\u001b[39m\"\u001b[39m: o, \u001b[39m\"\u001b[39m\u001b[39mpathway\u001b[39m\u001b[39m\"\u001b[39m: p, \u001b[39m\"\u001b[39m\u001b[39mtreatment\u001b[39m\u001b[39m\"\u001b[39m: t, \u001b[39m\"\u001b[39m\u001b[39mseverity\u001b[39m\u001b[39m\"\u001b[39m: s})\n\u001b[1;32m     16\u001b[0m                 probs\u001b[39m.\u001b[39mappend(prob)\n\u001b[1;32m     18\u001b[0m probs \u001b[39m=\u001b[39m pd\u001b[39m.\u001b[39mDataFrame({\n\u001b[1;32m     19\u001b[0m     \u001b[39m\"\u001b[39m\u001b[39mseverity\u001b[39m\u001b[39m\"\u001b[39m: _s,\n\u001b[1;32m     20\u001b[0m     \u001b[39m\"\u001b[39m\u001b[39mtreatment\u001b[39m\u001b[39m\"\u001b[39m: _t,\n\u001b[0;32m   (...)\u001b[0m\n\u001b[1;32m     23\u001b[0m     \u001b[39m\"\u001b[39m\u001b[39mprob\u001b[39m\u001b[39m\"\u001b[39m: probs\n\u001b[1;32m     24\u001b[0m })\n",
      "\u001b[0;31mNameError\u001b[0m: name 'dist' is not defined"
     ]
    }
   ],
   "source": [
    "_s = []\n",
    "_t = []\n",
    "_p = []\n",
    "_o = []\n",
    "probs = []\n",
    "\n",
    "for s in [0, 1]:\n",
    "    for t in [0, 1]:\n",
    "        for p in [0, 1]:\n",
    "            for o in [0, 1]:\n",
    "                _s.append(s)\n",
    "                _t.append(t)\n",
    "                _p.append(p)\n",
    "                _o.append(o)\n",
    "                prob = dist.approx(P([dist.vars.outcome, dist.vars.pathway, dist.vars.treatment, dist.vars.severity]), {\"outcome\": o, \"pathway\": p, \"treatment\": t, \"severity\": s})\n",
    "                probs.append(prob)\n",
    "\n",
    "probs = pd.DataFrame({\n",
    "    \"severity\": _s,\n",
    "    \"treatment\": _t,\n",
    "    \"pathway\": _p,\n",
    "    \"outcome\": _o,\n",
    "    \"prob\": probs\n",
    "})\n",
    "\n",
    "probs"
   ]
  },
  {
   "cell_type": "code",
   "execution_count": 3,
   "metadata": {},
   "outputs": [
    {
     "ename": "NameError",
     "evalue": "name 'pd' is not defined",
     "output_type": "error",
     "traceback": [
      "\u001b[0;31m---------------------------------------------------------------------------\u001b[0m",
      "\u001b[0;31mNameError\u001b[0m                                 Traceback (most recent call last)",
      "Cell \u001b[0;32mIn[3], line 1\u001b[0m\n\u001b[0;32m----> 1\u001b[0m data \u001b[39m=\u001b[39m pd\u001b[39m.\u001b[39mDataFrame({\u001b[39m\"\u001b[39m\u001b[39mx\u001b[39m\u001b[39m\"\u001b[39m: [\u001b[39m0\u001b[39m], \u001b[39m\"\u001b[39m\u001b[39my\u001b[39m\u001b[39m\"\u001b[39m: [\u001b[39m0\u001b[39m], \u001b[39m\"\u001b[39m\u001b[39mz\u001b[39m\u001b[39m\"\u001b[39m: [\u001b[39m0\u001b[39m]})\n\u001b[1;32m      2\u001b[0m dist \u001b[39m=\u001b[39m CategoricalDistribution(data, prior\u001b[39m=\u001b[39m\u001b[39m1\u001b[39m)\n\u001b[1;32m      3\u001b[0m joint \u001b[39m=\u001b[39m P([dist\u001b[39m.\u001b[39mvars\u001b[39m.\u001b[39mx, dist\u001b[39m.\u001b[39mvars\u001b[39m.\u001b[39my, dist\u001b[39m.\u001b[39mvars\u001b[39m.\u001b[39mz])\n",
      "\u001b[0;31mNameError\u001b[0m: name 'pd' is not defined"
     ]
    }
   ],
   "source": [
    "data = pd.DataFrame({\"x\": [0], \"y\": [0], \"z\": [0]})\n",
    "dist = CategoricalDistribution(data, prior=1)\n",
    "joint = P([dist.vars.x, dist.vars.y, dist.vars.z])\n",
    "# zeros = {\"x\": 0, \"y\": 0, \"z\": 0}\n",
    "ones = {\"x\": 1, \"y\": 1, \"z\": 1}\n",
    "\n",
    "dist.approx(joint, ones)"
   ]
  },
  {
   "cell_type": "code",
   "execution_count": 4,
   "metadata": {},
   "outputs": [
    {
     "ename": "NameError",
     "evalue": "name 'dist' is not defined",
     "output_type": "error",
     "traceback": [
      "\u001b[0;31m---------------------------------------------------------------------------\u001b[0m",
      "\u001b[0;31mNameError\u001b[0m                                 Traceback (most recent call last)",
      "Cell \u001b[0;32mIn[4], line 12\u001b[0m\n\u001b[1;32m     10\u001b[0m             _y\u001b[39m.\u001b[39mappend(y)\n\u001b[1;32m     11\u001b[0m             _z\u001b[39m.\u001b[39mappend(z)\n\u001b[0;32m---> 12\u001b[0m             prob \u001b[39m=\u001b[39m dist\u001b[39m.\u001b[39mapprox(joint, {\u001b[39m\"\u001b[39m\u001b[39mx\u001b[39m\u001b[39m\"\u001b[39m: x, \u001b[39m\"\u001b[39m\u001b[39my\u001b[39m\u001b[39m\"\u001b[39m: y, \u001b[39m\"\u001b[39m\u001b[39mz\u001b[39m\u001b[39m\"\u001b[39m: z})\n\u001b[1;32m     13\u001b[0m             probs\u001b[39m.\u001b[39mappend(prob)\n\u001b[1;32m     15\u001b[0m probs \u001b[39m=\u001b[39m pd\u001b[39m.\u001b[39mDataFrame({\n\u001b[1;32m     16\u001b[0m     \u001b[39m\"\u001b[39m\u001b[39mx\u001b[39m\u001b[39m\"\u001b[39m: _x,\n\u001b[1;32m     17\u001b[0m     \u001b[39m\"\u001b[39m\u001b[39my\u001b[39m\u001b[39m\"\u001b[39m: _y,\n\u001b[1;32m     18\u001b[0m     \u001b[39m\"\u001b[39m\u001b[39mz\u001b[39m\u001b[39m\"\u001b[39m: _z,\n\u001b[1;32m     19\u001b[0m     \u001b[39m\"\u001b[39m\u001b[39mprob\u001b[39m\u001b[39m\"\u001b[39m: probs\n\u001b[1;32m     20\u001b[0m })\n",
      "\u001b[0;31mNameError\u001b[0m: name 'dist' is not defined"
     ]
    }
   ],
   "source": [
    "_x = []\n",
    "_y = []\n",
    "_z = []\n",
    "probs = []\n",
    "\n",
    "for x in [0, 1]:\n",
    "    for y in [0, 1]:\n",
    "        for z in [0, 1]:\n",
    "            _x.append(x)\n",
    "            _y.append(y)\n",
    "            _z.append(z)\n",
    "            prob = dist.approx(joint, {\"x\": x, \"y\": y, \"z\": z})\n",
    "            probs.append(prob)\n",
    "\n",
    "probs = pd.DataFrame({\n",
    "    \"x\": _x,\n",
    "    \"y\": _y,\n",
    "    \"z\": _z,\n",
    "    \"prob\": probs\n",
    "})\n",
    "\n",
    "probs"
   ]
  },
  {
   "cell_type": "code",
   "execution_count": 5,
   "metadata": {},
   "outputs": [
    {
     "ename": "NameError",
     "evalue": "name 'dist' is not defined",
     "output_type": "error",
     "traceback": [
      "\u001b[0;31m---------------------------------------------------------------------------\u001b[0m",
      "\u001b[0;31mNameError\u001b[0m                                 Traceback (most recent call last)",
      "Cell \u001b[0;32mIn[5], line 1\u001b[0m\n\u001b[0;32m----> 1\u001b[0m dist\u001b[39m.\u001b[39mdomain_size([\u001b[39m\"\u001b[39m\u001b[39mx\u001b[39m\u001b[39m\"\u001b[39m, \u001b[39m\"\u001b[39m\u001b[39my\u001b[39m\u001b[39m\"\u001b[39m, \u001b[39m\"\u001b[39m\u001b[39mz\u001b[39m\u001b[39m\"\u001b[39m])\n\u001b[1;32m      2\u001b[0m dist\u001b[39m.\u001b[39mn_unique\n",
      "\u001b[0;31mNameError\u001b[0m: name 'dist' is not defined"
     ]
    }
   ],
   "source": [
    "dist.domain_size([\"x\", \"y\", \"z\"])\n",
    "dist.n_unique"
   ]
  },
  {
   "cell_type": "code",
   "execution_count": null,
   "metadata": {},
   "outputs": [],
   "source": []
  }
 ],
 "metadata": {
  "kernelspec": {
   "display_name": "venv",
   "language": "python",
   "name": "python3"
  },
  "language_info": {
   "codemirror_mode": {
    "name": "ipython",
    "version": 3
   },
   "file_extension": ".py",
   "mimetype": "text/x-python",
   "name": "python",
   "nbconvert_exporter": "python",
   "pygments_lexer": "ipython3",
   "version": "3.10.0"
  },
  "orig_nbformat": 4,
  "vscode": {
   "interpreter": {
    "hash": "bbbf304047aac1d8dfa956a63cc2cea0a93c42bcd915750832b2326b8115e97d"
   }
  }
 },
 "nbformat": 4,
 "nbformat_minor": 2
}
