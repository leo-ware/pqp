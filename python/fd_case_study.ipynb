{
 "cells": [
  {
   "attachments": {},
   "cell_type": "markdown",
   "metadata": {},
   "source": [
    "# Why use causal graphs?"
   ]
  },
  {
   "attachments": {},
   "cell_type": "markdown",
   "metadata": {},
   "source": [
    "We have all been told that it is impossible to infer causality from observational data. Strictly speaking, this is true. However, we live in a world where people make these kinds of inferences all the time. We have to. Randomized experiments are not always possible or ethical, but causal information about the world hugely important to medicine, economics, and other fields.\n",
    "\n",
    "The conventional wisdom that \"correlation does not imply causation\" is true but useless, and in fact, it can lead to serious problems. Unable to use formal tools, decision makers will often rely on ad hoc judgements of which associations can be credibly interpreted as causal effects, implicitly making assumptions about the causal structure of the data. This is problematic because it is only when these assumptions are made explicit that they can be tested and critiqued. Small variations in assumptions about causal structure can lead to surprisingly large differences in the outcome of an analysis, making it especially important to be explicit about these kinds of assumptions.\n",
    "\n",
    "A better framing is \"no causality in, no causality out\". Causal graphs are a way to make assumptions about the causal structure of the data explicit, and to use these assumptions to draw quantitative conclusions about causal effects sizes. In other words, although it's not possible to *infer* causal relationships, it is often possible to *measure* them if you assume that they exist. Causal graphs enable this measurement.\n",
    "\n",
    "Causal graphs are not a silver bullet. They cannot tell you what causal assumptions to make. But, they provide a useful interface to these kinds of assumptions, allowing for faster iteration on these assumption and enabling collaboration between data scientists, domain experts, and computational tools.\n",
    "\n",
    "The following experiment shows how failure to correctly identify the correct causal structure, or attempts to push this problem under the mat, can cause serious errors in an analysis. Meanwhile, true knowledge, even partial, about the structure can be used to make correct inferences about causal effects."
   ]
  },
  {
   "attachments": {},
   "cell_type": "markdown",
   "metadata": {},
   "source": [
    "## Simulating the Data"
   ]
  },
  {
   "attachments": {},
   "cell_type": "markdown",
   "metadata": {},
   "source": [
    "We will use `pqp` for this experiment. `pqp` is a Python package for causal inference that I am developing. It is still in the early stages, but it is already useful for some applications. It is available on PyPi."
   ]
  },
  {
   "cell_type": "code",
   "execution_count": 1,
   "metadata": {},
   "outputs": [],
   "source": [
    "from pqp import *\n",
    "import pandas as pd\n",
    "import numpy as np\n",
    "import matplotlib.pyplot as plt\n",
    "\n",
    "np.random.seed(123)"
   ]
  },
  {
   "attachments": {},
   "cell_type": "markdown",
   "metadata": {},
   "source": [
    "The simulated dataset will have four variables---$x$, $y$, $z$, and $m$---each represeting a binary random variable. We are interested in measuring the effect of $x$ on $y$ in the case where $z$ is not observed. The true causal graph, representing the data generating process, is shown below. Arrows represent causal relationships, where changing one variable will exert a direct effect on another.\n",
    "\n",
    "An easy way to interpret this is to imagine that we are studying a new, experimental medical procedure. Each row represents a patient with a given condition.\n",
    "\n",
    "- $x$, the *treatment variables*, represents whether or not the patient received the procedure.\n",
    "- $y$, the *outcome variable*, represents whether they recovered.\n",
    "- $z$, a *confounder*, which influences both whether the procedure was administered and whether they recovered. This might be something like the severity of the patient's condition--worse cases where more likely to receive treatment.\n",
    "- $m$, a *mediator*, lies along the causal pathway from $x$ to $y$. This is a mechanism by which the treatment affects the outcome. In this case, it might be something like the patient's blood pressure, which is reduced by the by the procedure and makes a positiver outcome more likely."
   ]
  },
  {
   "cell_type": "code",
   "execution_count": 2,
   "metadata": {},
   "outputs": [
    {
     "data": {
      "image/png": "[encoded data removed]",
      "text/plain": [
       "<Figure size 640x480 with 1 Axes>"
      ]
     },
     "metadata": {},
     "output_type": "display_data"
    }
   ],
   "source": [
    "x, y, z, m = make_vars(\"xyzm\")\n",
    "\n",
    "true_graph = Graph([\n",
    "    x <= z,\n",
    "    m <= x,\n",
    "    y <= [z, m]\n",
    "])\n",
    "\n",
    "true_graph.draw()\n"
   ]
  },
  {
   "attachments": {},
   "cell_type": "markdown",
   "metadata": {},
   "source": [
    "We define the size of the direct effects in the next cell. "
   ]
  },
  {
   "cell_type": "code",
   "execution_count": 3,
   "metadata": {},
   "outputs": [],
   "source": [
    "true_direct_effect = {\n",
    "    (z, x): 0.5,  # severity makes treatment 50% more likely\n",
    "    (x, m): 0.5,  # treatment reduces blood pressure 50% of the time\n",
    "    (m, y): 0.5,  # reduced blood pressure increases the odds of recovery 50% of the time\n",
    "    (z, y): -0.25  # recovery is 25% less likely in severe cases\n",
    "}"
   ]
  },
  {
   "attachments": {},
   "cell_type": "markdown",
   "metadata": {},
   "source": [
    "Next, we simulate the actual data. The simulation is setup so that each variable has an expected value of $0.5$ for the sake of simplicity."
   ]
  },
  {
   "cell_type": "code",
   "execution_count": 4,
   "metadata": {},
   "outputs": [
    {
     "data": {
      "text/html": [
       "<div>\n",
       "<style scoped>\n",
       "    .dataframe tbody tr th:only-of-type {\n",
       "        vertical-align: middle;\n",
       "    }\n",
       "\n",
       "    .dataframe tbody tr th {\n",
       "        vertical-align: top;\n",
       "    }\n",
       "\n",
       "    .dataframe thead th {\n",
       "        text-align: right;\n",
       "    }\n",
       "</style>\n",
       "<table border=\"1\" class=\"dataframe\">\n",
       "  <thead>\n",
       "    <tr style=\"text-align: right;\">\n",
       "      <th></th>\n",
       "      <th>z</th>\n",
       "      <th>x</th>\n",
       "      <th>m</th>\n",
       "      <th>y</th>\n",
       "    </tr>\n",
       "  </thead>\n",
       "  <tbody>\n",
       "    <tr>\n",
       "      <th>0</th>\n",
       "      <td>0</td>\n",
       "      <td>1</td>\n",
       "      <td>1</td>\n",
       "      <td>1</td>\n",
       "    </tr>\n",
       "    <tr>\n",
       "      <th>1</th>\n",
       "      <td>0</td>\n",
       "      <td>0</td>\n",
       "      <td>0</td>\n",
       "      <td>0</td>\n",
       "    </tr>\n",
       "    <tr>\n",
       "      <th>2</th>\n",
       "      <td>0</td>\n",
       "      <td>0</td>\n",
       "      <td>0</td>\n",
       "      <td>0</td>\n",
       "    </tr>\n",
       "    <tr>\n",
       "      <th>3</th>\n",
       "      <td>1</td>\n",
       "      <td>1</td>\n",
       "      <td>1</td>\n",
       "      <td>1</td>\n",
       "    </tr>\n",
       "    <tr>\n",
       "      <th>4</th>\n",
       "      <td>0</td>\n",
       "      <td>0</td>\n",
       "      <td>0</td>\n",
       "      <td>1</td>\n",
       "    </tr>\n",
       "  </tbody>\n",
       "</table>\n",
       "</div>"
      ],
      "text/plain": [
       "   z  x  m  y\n",
       "0  0  1  1  1\n",
       "1  0  0  0  0\n",
       "2  0  0  0  0\n",
       "3  1  1  1  1\n",
       "4  0  0  0  1"
      ]
     },
     "execution_count": 4,
     "metadata": {},
     "output_type": "execute_result"
    }
   ],
   "source": [
    "# number of data points\n",
    "n = 10000\n",
    "\n",
    "df = pd.DataFrame()\n",
    "df[\"z\"] = (np.random.uniform(0, 1, n) > 0.5).astype(int)\n",
    "df[\"x\"] = (np.random.uniform(0, 1, n) + df[\"z\"] * true_direct_effect[(z, x)] > 0.5 * (1 + true_direct_effect[(z, x)])).astype(int)\n",
    "df[\"m\"] = (np.random.uniform(0, 1, n) + df[\"x\"] * true_direct_effect[(x, m)] > 0.5 * (1 + true_direct_effect[(x, m)])).astype(int)\n",
    "df[\"y\"] = (np.random.uniform(0, 1, n) + true_direct_effect[(m, y)] * df[\"m\"] + true_direct_effect[(z, y)] * df[\"z\"] > 0.5 * (1 + true_direct_effect[(m, y)] + true_direct_effect[(z, y)])).astype(int)\n",
    "\n",
    "df.head()"
   ]
  },
  {
   "attachments": {},
   "cell_type": "markdown",
   "metadata": {},
   "source": [
    "## Formal Problem Statement"
   ]
  },
  {
   "attachments": {},
   "cell_type": "markdown",
   "metadata": {},
   "source": [
    "There are a lot of different ways to operationalize the concept of a causal effect. Here, we'll be using the $ATE$ or average treatment effect. This is the expected difference in outcome that would result from treatment of a random unit from the sample. In other words, if we picked a random patient from the sample and gave them the treatment, how much more likely are they to recover than if they didn't receive the treatment.\n",
    "\n",
    "This is *not* equivalent to the difference in expected outcomes between the treatment and control group as the units in these two groups are drawn from different distributions. In our example, patients with severe cases were more likely to receive treatment.\n",
    "\n",
    "There is a lot of nuance here that I won't cover, but the key point is that the ATE is a well-defined quantity that mostly captures what we mean when we talk about the effect of a treatment."
   ]
  },
  {
   "cell_type": "code",
   "execution_count": 5,
   "metadata": {},
   "outputs": [
    {
     "data": {
      "text/latex": [
       "$\\displaystyle \\text{ATE}(y \\mid x) = E_{y} \\big[P(y \\mid \\text{do}(x = 1))\\big] - E_{y} \\big[P(y \\mid \\text{do}(x = 0))\\big]$"
      ],
      "text/plain": [
       "<IPython.core.display.Math object>"
      ]
     },
     "metadata": {},
     "output_type": "display_data"
    }
   ],
   "source": [
    "causal_estimand = ATE(\n",
    "    y,          # outcome variable\n",
    "    {x: 1},     # definition of treatment\n",
    "    {x: 0}      # definition of control\n",
    ")\n",
    "causal_estimand.display()"
   ]
  },
  {
   "attachments": {},
   "cell_type": "markdown",
   "metadata": {},
   "source": [
    "Next, we fit the data with a categorical distribution. It's necessary to fit a model to the data to answer any interesting questions about. Typically, this will be a parametric model such as a logistic regression model. However, because our data is fairly low-dimensional, we can use a nonparametric model here, the categorical distribution with maximum likelihood estimation. This model comes from `pqp` ."
   ]
  },
  {
   "cell_type": "code",
   "execution_count": 6,
   "metadata": {},
   "outputs": [
    {
     "data": {
      "text/plain": [
       "MultinomialEstimator(observed=[x, m, z, y])"
      ]
     },
     "execution_count": 6,
     "metadata": {},
     "output_type": "execute_result"
    }
   ],
   "source": [
    "data = Data(df)\n",
    "estimator = MultinomialEstimator(data, prior=1)\n",
    "estimator"
   ]
  },
  {
   "attachments": {},
   "cell_type": "markdown",
   "metadata": {},
   "source": [
    "# Analytical Solution"
   ]
  },
  {
   "attachments": {},
   "cell_type": "markdown",
   "metadata": {},
   "source": [
    "Since the data is simulated, we know the true generating process for the data, and so we can analytically calculate the true ATE. This is the correct answer that we will try to recover using different techniques.\n",
    "\n",
    "The calculation looks a little bit complicated, but all we are doing is using our knowledge that the effects in the model are all linear. This means that the total effect of $x$ on $y$ is just the sum of the effects along each directed path from $x$ to $y$. To figure out the effect along each path, we simply multiple the direct effect associated with each edge. If you didn't follow that, don't worry. The key point is that we can calculate the true ATE analytically."
   ]
  },
  {
   "cell_type": "code",
   "execution_count": 8,
   "metadata": {},
   "outputs": [
    {
     "name": "stdout",
     "output_type": "stream",
     "text": [
      "Analytical Values\n",
      "\n",
      "ATE(treatment=z, outcome=x) = 0.5\n",
      "ATE(treatment=z, outcome=m) = 0.25\n",
      "ATE(treatment=z, outcome=y) = -0.125\n",
      "ATE(treatment=x, outcome=m) = 0.5\n",
      "ATE(treatment=x, outcome=y) = 0.25\n",
      "ATE(treatment=m, outcome=y) = 0.5\n"
     ]
    }
   ],
   "source": [
    "analytical_effects = {}\n",
    "\n",
    "v = [z, x, m, y]\n",
    "for i in range(4):\n",
    "    for j in range(i + 1, 4):\n",
    "        start = v[i]\n",
    "        end = v[j]\n",
    "\n",
    "        for path in true_graph.dfs(start, end):\n",
    "            path = list(path)\n",
    "            path_value = 1\n",
    "            for edge in zip(path[:-1], path[1:]):\n",
    "                edge_value = true_direct_effect.get(edge, 0)\n",
    "                path_value *= edge_value\n",
    "            analytical_effects[(start, end)] = analytical_effects.get((start, end), 0) + path_value\n",
    "\n",
    "print(\"Analytical Values\\n\")\n",
    "for (start, end), value in analytical_effects.items():\n",
    "    print(f\"ATE(treatment={start}, outcome={end}) = {value}\")\n"
   ]
  },
  {
   "attachments": {},
   "cell_type": "markdown",
   "metadata": {},
   "source": [
    "We can see that the true average treatment effect of $x$ on $y$ is $0.25$. We can get the same result empirically using `pqp`."
   ]
  },
  {
   "cell_type": "code",
   "execution_count": 9,
   "metadata": {},
   "outputs": [
    {
     "data": {
      "text/latex": [
       "$\\displaystyle E_{y} \\big[\\sum_{z, m} \\big({P(m, y, z, x = 1) P(z) \\over P(z, x = 1)}\\big)\\big] - E_{y} \\big[\\sum_{z, m} \\big({P(m, y, z, x = 0) P(z) \\over P(z, x = 0)}\\big)\\big]$"
      ],
      "text/plain": [
       "<IPython.core.display.Math object>"
      ]
     },
     "metadata": {},
     "output_type": "display_data"
    },
    {
     "data": {
      "text/plain": [
       "EstimationResult(value=0.2460116520134078)"
      ]
     },
     "execution_count": 9,
     "metadata": {},
     "output_type": "execute_result"
    }
   ],
   "source": [
    "est = true_graph.identify(causal_estimand)\n",
    "est.identified_estimand.display()\n",
    "estimator.estimate(est)"
   ]
  },
  {
   "attachments": {},
   "cell_type": "markdown",
   "metadata": {},
   "source": [
    "With perfect information, getting the right answer is easy. However, recall that in our scenario, we are trying to estimate the effect of $x$ on $y$ when $z$ is not observed. Next, we will look at a number of approaches to this problem."
   ]
  },
  {
   "attachments": {},
   "cell_type": "markdown",
   "metadata": {},
   "source": [
    "## Overcontrolling"
   ]
  },
  {
   "attachments": {},
   "cell_type": "markdown",
   "metadata": {},
   "source": [
    "First, we can look at estimating the effect under the assumption that $x$ has a direct effect on $y$, and there are no confounders or mediators. We represent this model using a graph."
   ]
  },
  {
   "cell_type": "code",
   "execution_count": 10,
   "metadata": {},
   "outputs": [
    {
     "data": {
      "image/png": "[encoded data removed]",
      "text/plain": [
       "<Figure size 640x480 with 1 Axes>"
      ]
     },
     "metadata": {},
     "output_type": "display_data"
    }
   ],
   "source": [
    "naive_graph = Graph([y <= x])\n",
    "naive_graph.draw()"
   ]
  },
  {
   "attachments": {},
   "cell_type": "markdown",
   "metadata": {},
   "source": [
    "We then use this graph to identify the $ATE$ and estimate it."
   ]
  },
  {
   "cell_type": "code",
   "execution_count": 11,
   "metadata": {},
   "outputs": [
    {
     "data": {
      "text/latex": [
       "$\\displaystyle E_{y} \\big[{P(x = 1, y) \\over P(x = 1)}\\big] - E_{y} \\big[{P(x = 0, y) \\over P(x = 0)}\\big]$"
      ],
      "text/plain": [
       "<IPython.core.display.Math object>"
      ]
     },
     "metadata": {},
     "output_type": "display_data"
    },
    {
     "data": {
      "text/plain": [
       "EstimationResult(value=0.12778469382701846)"
      ]
     },
     "execution_count": 11,
     "metadata": {},
     "output_type": "execute_result"
    }
   ],
   "source": [
    "est = naive_graph.identify(causal_estimand)\n",
    "est.identified_estimand.display()\n",
    "estimator.estimate(est)"
   ]
  },
  {
   "attachments": {},
   "cell_type": "markdown",
   "metadata": {},
   "source": [
    "As we can see, `pqp` has determined that under this set of causal assumptions, the $ATE$ is equivalent to the difference in expected outcomes between the treatment and control groups. This method significantly underestimates the size of the effect, at ~$0.13$. This is because of difference is the underlying distribution from which treatment and control units are drawn (aka confounding). More severe cases were more likely to receive treatment and less likely to recover.\n",
    "\n",
    "So, if we attempt to estimate the effect without any knowledge of the causal structure and without any covariates, we will get the wrong answer. We have access to another variable though, $m$. Suppose we control for this variable in our analysis. Will this be any closer?\n",
    "\n",
    "We can represent this strategy using a graph. We are controlling for $m$ here, which means treating it as a confounder."
   ]
  },
  {
   "cell_type": "code",
   "execution_count": 12,
   "metadata": {},
   "outputs": [
    {
     "data": {
      "image/png": "[encoded data removed]",
      "text/plain": [
       "<Figure size 640x480 with 1 Axes>"
      ]
     },
     "metadata": {},
     "output_type": "display_data"
    }
   ],
   "source": [
    "control_graph = Graph([\n",
    "    x <= m,\n",
    "    y <= [x, m]\n",
    "])\n",
    "control_graph.draw()"
   ]
  },
  {
   "attachments": {},
   "cell_type": "markdown",
   "metadata": {},
   "source": [
    "We can then identify and estimate the effect."
   ]
  },
  {
   "cell_type": "code",
   "execution_count": 13,
   "metadata": {},
   "outputs": [
    {
     "data": {
      "text/latex": [
       "$\\displaystyle E_{y} \\big[\\sum_{m} \\big({P(m) P(m, y, x = 1) \\over P(m, x = 1)}\\big)\\big] - E_{y} \\big[\\sum_{m} \\big({P(m) P(m, y, x = 0) \\over P(m, x = 0)}\\big)\\big]$"
      ],
      "text/plain": [
       "<IPython.core.display.Math object>"
      ]
     },
     "metadata": {},
     "output_type": "display_data"
    },
    {
     "data": {
      "text/plain": [
       "EstimationResult(value=-0.1270725342061666)"
      ]
     },
     "execution_count": 13,
     "metadata": {},
     "output_type": "execute_result"
    }
   ],
   "source": [
    "est = control_graph.identify(causal_estimand)\n",
    "est.identified_estimand.display()\n",
    "estimator.estimate(est)"
   ]
  },
  {
   "attachments": {},
   "cell_type": "markdown",
   "metadata": {},
   "source": [
    "The results are even worse! Now the estimator isn't only wrong, it has flipped the sign on the effect. This is because $m$ is a mediator, and controlling for it has blocked the causal pathway from $x$ to $y$, eliminating the causal effect. Now, the *only* remaining nonrandom association between $x$ and $y$ is the difference in the underlying treatment and control populations. As we saw above, this difference incorrectly suggests that the treatment was actually detrimental.\n",
    "\n",
    "There is an important lesson here: mindlessly controlling for variables will not help to uncover the causal effect. Unfortunately, this is an appraoch adopted by a large portion of the existing academic corpus on many subjects.\n",
    "\n",
    "Another example will illustrate this further. In our scenario, we don't have access to $z$, but suppose we did. But, instead of accurately modeling the underlying causal structure, we chose to simply control for both $m$ and $z$."
   ]
  },
  {
   "cell_type": "code",
   "execution_count": 14,
   "metadata": {},
   "outputs": [
    {
     "data": {
      "text/latex": [
       "$\\displaystyle E_{y} \\big[\\sum_{z, m} \\big({P(z) P(z, y, m, x = 1) P(m) \\over P(z, m, x = 1)}\\big)\\big] - E_{y} \\big[\\sum_{z, m} \\big({P(z) P(z, y, m, x = 0) P(m) \\over P(z, m, x = 0)}\\big)\\big]$"
      ],
      "text/plain": [
       "<IPython.core.display.Math object>"
      ]
     },
     "metadata": {},
     "output_type": "display_data"
    },
    {
     "data": {
      "text/plain": [
       "EstimationResult(value=-0.010405142334699136)"
      ]
     },
     "execution_count": 14,
     "metadata": {},
     "output_type": "execute_result"
    }
   ],
   "source": [
    "control_graph_z_observed = Graph([\n",
    "    x <= [z, m],\n",
    "    y <= [x, m, z]\n",
    "])\n",
    "est = control_graph_z_observed.identify(causal_estimand)\n",
    "est.identified_estimand.display()\n",
    "estimator.estimate(est)"
   ]
  },
  {
   "attachments": {},
   "cell_type": "markdown",
   "metadata": {},
   "source": [
    "The value is close to zero. We can controlled for the only two pathways by which $x$ and $y$ were associated, and now the only remaining association is due to noise. Don't mindlessly control for variables! It will not help you."
   ]
  },
  {
   "attachments": {},
   "cell_type": "markdown",
   "metadata": {},
   "source": [
    "## Success Using Causal Graphs"
   ]
  },
  {
   "attachments": {},
   "cell_type": "markdown",
   "metadata": {},
   "source": [
    "Now, we will show how the correct effect size can be recovered from the data even if $z$ is unobserved. We will model $m$ as a mediator, and we will note the presence of a possible unobserved confounder between $x$ and $y$. This is represented by a dashed line in the graph."
   ]
  },
  {
   "cell_type": "code",
   "execution_count": 16,
   "metadata": {},
   "outputs": [
    {
     "data": {
      "image/png": "[encoded data removed]",
      "text/plain": [
       "<Figure size 640x480 with 1 Axes>"
      ]
     },
     "metadata": {},
     "output_type": "display_data"
    }
   ],
   "source": [
    "smart_graph = Graph([\n",
    "    m <= x,\n",
    "    y <= m,\n",
    "    y & x\n",
    "    ])\n",
    "smart_graph.draw()"
   ]
  },
  {
   "cell_type": "code",
   "execution_count": 17,
   "metadata": {},
   "outputs": [
    {
     "data": {
      "text/latex": [
       "$\\displaystyle E_{y} \\big[\\sum_{m} \\big({\\sum_{x} \\big({P(m, y, x) P(x) \\over P(m, x)}\\big) P(m, x = 1) \\over P(x = 1)}\\big)\\big] - E_{y} \\big[\\sum_{m} \\big({\\sum_{x} \\big({P(m, y, x) P(x) \\over P(m, x)}\\big) P(m, x = 0) \\over P(x = 0)}\\big)\\big]$"
      ],
      "text/plain": [
       "<IPython.core.display.Math object>"
      ]
     },
     "metadata": {},
     "output_type": "display_data"
    },
    {
     "data": {
      "text/plain": [
       "EstimationResult(value=0.2548263847173535)"
      ]
     },
     "execution_count": 17,
     "metadata": {},
     "output_type": "execute_result"
    }
   ],
   "source": [
    "est = smart_graph.identify(causal_estimand)\n",
    "est.identified_estimand.display()\n",
    "estimator.estimate(est)"
   ]
  },
  {
   "attachments": {},
   "cell_type": "markdown",
   "metadata": {},
   "source": [
    "We recover the correct answer of $0.25$. The identification routine in `pqp` is able to route around the unobserved confounder by using the mediator $m$, although we can see how this adds complexity to the estimator."
   ]
  },
  {
   "attachments": {},
   "cell_type": "markdown",
   "metadata": {},
   "source": [
    "## An Insufficient Graph"
   ]
  },
  {
   "attachments": {},
   "cell_type": "markdown",
   "metadata": {},
   "source": [
    "We have seen how making the wrong assumptions about the causal structure can lead to incorrect estimates. So, what if we make as few assumptions as possible? As a final illustration, we can examing this approach. We think there is a causal effect from $x$ to $y$, but we can indicate that we don't know anything else about the causal structure by adding additional edges to represent possible confounding."
   ]
  },
  {
   "cell_type": "code",
   "execution_count": 19,
   "metadata": {},
   "outputs": [
    {
     "data": {
      "text/plain": [
       "IdentificationResult(identified_estimand=E_(y) [ FAIL ] - E_(y) [ FAIL ])"
      ]
     },
     "execution_count": 19,
     "metadata": {},
     "output_type": "execute_result"
    }
   ],
   "source": [
    "underdetermined_graph = Graph([\n",
    "    y <= x,\n",
    "    x & y,\n",
    "])\n",
    "underdetermined_graph.identify(causal_estimand)"
   ]
  },
  {
   "attachments": {},
   "cell_type": "markdown",
   "metadata": {},
   "source": [
    "The identification routine returns `FAIL`. There is not enough information to measure the effect because any association between $x$ and $y$ could be due to either the direct effect or confounding. You do need make assumptions in causal inference."
   ]
  },
  {
   "attachments": {},
   "cell_type": "markdown",
   "metadata": {},
   "source": [
    "## Conclusion\n",
    "\n",
    "Drawing causal conclusions from observational data must be done with care. Incorrect assumptions can very quickly derail an analysis, and the only solution is to be careful about the assumptions you make. Hopefully, you will find causal graphs a useful tool for making these assumptions explicit."
   ]
  },
  {
   "attachments": {},
   "cell_type": "markdown",
   "metadata": {},
   "source": []
  }
 ],
 "metadata": {
  "kernelspec": {
   "display_name": "venv",
   "language": "python",
   "name": "python3"
  },
  "language_info": {
   "codemirror_mode": {
    "name": "ipython",
    "version": 3
   },
   "file_extension": ".py",
   "mimetype": "text/x-python",
   "name": "python",
   "nbconvert_exporter": "python",
   "pygments_lexer": "ipython3",
   "version": "3.10.0"
  },
  "orig_nbformat": 4
 },
 "nbformat": 4,
 "nbformat_minor": 2
}
