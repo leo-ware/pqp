{
 "cells": [
  {
   "cell_type": "code",
   "execution_count": 4,
   "metadata": {},
   "outputs": [],
   "source": [
    "import numpy as np\n",
    "import pandas as pd\n",
    "from pqp.data.data import Data\n",
    "from pqp.identification.graph import Graph\n",
    "from pqp.estimation import MultinomialEstimator\n",
    "from pqp.identification.estimands import *\n",
    "from pqp.symbols import *"
   ]
  },
  {
   "cell_type": "code",
   "execution_count": 5,
   "metadata": {},
   "outputs": [],
   "source": [
    "x, y, z = make_vars(\"xyz\")\n",
    "df = pd.DataFrame({\n",
    "    \"x\": [0, 1, 0, 1, 1.5, 1.5],\n",
    "    \"y\": [0, 1, 1, 2, 1.5, 2.5],\n",
    "    \"m\": [1, 2, 3, 4, 5, 6],\n",
    "    \"z\": [0, 0, 1, 1, 0, 1],\n",
    "})\n",
    "data = Data(df)"
   ]
  },
  {
   "cell_type": "code",
   "execution_count": 6,
   "metadata": {},
   "outputs": [
    {
     "ename": "AttributeError",
     "evalue": "'MultinomialEstimator' object has no attribute 'print_log'",
     "output_type": "error",
     "traceback": [
      "\u001b[0;31m---------------------------------------------------------------------------\u001b[0m",
      "\u001b[0;31mAttributeError\u001b[0m                            Traceback (most recent call last)",
      "Cell \u001b[0;32mIn[6], line 2\u001b[0m\n\u001b[1;32m      1\u001b[0m dist \u001b[39m=\u001b[39m MultinomialEstimator(data, prior\u001b[39m=\u001b[39m\u001b[39m0.1\u001b[39m)\n\u001b[0;32m----> 2\u001b[0m dist\u001b[39m.\u001b[39;49mprint_log(nested\u001b[39m=\u001b[39m\u001b[39mTrue\u001b[39;00m)\n",
      "\u001b[0;31mAttributeError\u001b[0m: 'MultinomialEstimator' object has no attribute 'print_log'"
     ]
    }
   ],
   "source": [
    "dist = MultinomialEstimator(data, prior=0.1)\n",
    "dist.print_log(nested=True)"
   ]
  },
  {
   "cell_type": "code",
   "execution_count": 7,
   "metadata": {},
   "outputs": [
    {
     "data": {
      "text/plain": [
       "<ATE treatment_vars=[Variable(z)], outcome=y>"
      ]
     },
     "execution_count": 7,
     "metadata": {},
     "output_type": "execute_result"
    }
   ],
   "source": [
    "causal_estimand = ATE(y, {z: 0}, {z: 1})\n",
    "causal_estimand"
   ]
  },
  {
   "cell_type": "code",
   "execution_count": 8,
   "metadata": {},
   "outputs": [
    {
     "data": {
      "text/plain": [
       "Graph([DirectedEdge(start=x, end=m), DirectedEdge(start=z, end=x), DirectedEdge(start=z, end=y), DirectedEdge(start=x, end=y)])"
      ]
     },
     "execution_count": 8,
     "metadata": {},
     "output_type": "execute_result"
    }
   ],
   "source": [
    "x, y, z, m = make_vars(\"xyzm\")\n",
    "\n",
    "g = Graph([\n",
    "    y <= [x, z],\n",
    "    x <= z,\n",
    "    m <= x,\n",
    "])\n",
    "\n",
    "g"
   ]
  },
  {
   "cell_type": "code",
   "execution_count": 9,
   "metadata": {},
   "outputs": [
    {
     "ename": "AttributeError",
     "evalue": "'IdentificationResult' object has no attribute 'print_log'",
     "output_type": "error",
     "traceback": [
      "\u001b[0;31m---------------------------------------------------------------------------\u001b[0m",
      "\u001b[0;31mAttributeError\u001b[0m                            Traceback (most recent call last)",
      "Cell \u001b[0;32mIn[9], line 2\u001b[0m\n\u001b[1;32m      1\u001b[0m estimand \u001b[39m=\u001b[39m g\u001b[39m.\u001b[39midentify(causal_estimand)\n\u001b[0;32m----> 2\u001b[0m estimand\u001b[39m.\u001b[39;49mprint_log()\n",
      "\u001b[0;31mAttributeError\u001b[0m: 'IdentificationResult' object has no attribute 'print_log'"
     ]
    }
   ],
   "source": [
    "estimand = g.identify(causal_estimand)\n",
    "estimand.print_log()"
   ]
  },
  {
   "cell_type": "code",
   "execution_count": 10,
   "metadata": {},
   "outputs": [
    {
     "data": {
      "text/plain": [
       "EstimationResult(value=-0.4102459016393445)"
      ]
     },
     "execution_count": 10,
     "metadata": {},
     "output_type": "execute_result"
    }
   ],
   "source": [
    "est = dist.estimate(estimand)\n",
    "est"
   ]
  },
  {
   "cell_type": "code",
   "execution_count": 11,
   "metadata": {},
   "outputs": [
    {
     "data": {
      "text/plain": [
       "0.37425"
      ]
     },
     "execution_count": 11,
     "metadata": {},
     "output_type": "execute_result"
    }
   ],
   "source": [
    "data.df.x[0]"
   ]
  },
  {
   "cell_type": "code",
   "execution_count": 12,
   "metadata": {},
   "outputs": [],
   "source": [
    "x, y, z = make_vars(\"xyz\")\n",
    "\n",
    "treatment_condition = [x.val == 1]\n",
    "control_condition = [x.val == 0]"
   ]
  },
  {
   "cell_type": "code",
   "execution_count": 25,
   "metadata": {},
   "outputs": [],
   "source": [
    "g = Graph([\n",
    "    y <= z,\n",
    "    z <= x,\n",
    "    y & x\n",
    "])"
   ]
  },
  {
   "cell_type": "code",
   "execution_count": 40,
   "metadata": {},
   "outputs": [
    {
     "data": {
      "text/plain": [
       "MultinomialEstimator()"
      ]
     },
     "execution_count": 40,
     "metadata": {},
     "output_type": "execute_result"
    }
   ],
   "source": [
    "df = pd.DataFrame({\n",
    "    \"x\": [0, 0, 0, 1, 1, 0],\n",
    "    \"z\": [0, 1, 0, 1, 1, 0],\n",
    "    \"y\": [0, 1, 0, 1, 1, 0],\n",
    "})\n",
    "\n",
    "dist = MultinomialEstimator(df, prior=1)\n",
    "dist"
   ]
  },
  {
   "cell_type": "code",
   "execution_count": 41,
   "metadata": {},
   "outputs": [
    {
     "name": "stdout",
     "output_type": "stream",
     "text": [
      "E_y \\big[ P(y \\mid \\text{do}(x = 1)) \\big] - E_y \\big[ P(y \\mid \\text{do}(x = 0)) \\big]\n"
     ]
    }
   ],
   "source": [
    "causal_estimand = ATE(y, treatment_condition, control_condition)\n",
    "print(causal_estimand.expression().to_latex())"
   ]
  },
  {
   "cell_type": "code",
   "execution_count": 42,
   "metadata": {},
   "outputs": [
    {
     "name": "stdout",
     "output_type": "stream",
     "text": [
      "E_y \\big[ \\sum_{z} \\big({\\sum_{x} \\big({P(x) P(x, z, y) \\over P(x, z)}\\big) P(x = 1, z) \\over P(x = 1)}\\big) \\big] - E_y \\big[ \\sum_{z} \\big({\\sum_{x} \\big({P(x) P(x, z, y) \\over P(x, z)}\\big) P(x = 0, z) \\over P(x = 0)}\\big) \\big]\n"
     ]
    }
   ],
   "source": [
    "estimand = g.identify(causal_estimand).identified_estimand\n",
    "print(estimand.to_latex())"
   ]
  },
  {
   "cell_type": "code",
   "execution_count": 43,
   "metadata": {},
   "outputs": [
    {
     "data": {
      "text/plain": [
       "EstimationResult(value=0.4433808167141502)"
      ]
     },
     "execution_count": 43,
     "metadata": {},
     "output_type": "execute_result"
    }
   ],
   "source": [
    "dist.estimate(estimand)"
   ]
  },
  {
   "cell_type": "code",
   "execution_count": null,
   "metadata": {},
   "outputs": [],
   "source": []
  }
 ],
 "metadata": {
  "kernelspec": {
   "display_name": "venv",
   "language": "python",
   "name": "python3"
  },
  "language_info": {
   "codemirror_mode": {
    "name": "ipython",
    "version": 3
   },
   "file_extension": ".py",
   "mimetype": "text/x-python",
   "name": "python",
   "nbconvert_exporter": "python",
   "pygments_lexer": "ipython3",
   "version": "3.10.0"
  },
  "orig_nbformat": 4,
  "vscode": {
   "interpreter": {
    "hash": "bbbf304047aac1d8dfa956a63cc2cea0a93c42bcd915750832b2326b8115e97d"
   }
  }
 },
 "nbformat": 4,
 "nbformat_minor": 2
}
