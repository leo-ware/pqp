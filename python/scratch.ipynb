{
 "cells": [
  {
   "cell_type": "code",
   "execution_count": 6,
   "metadata": {},
   "outputs": [],
   "source": [
    "import numpy as np\n",
    "import pandas as pd\n",
    "from pqp.data.data import Data\n",
    "from pqp.estimation.model import Model\n",
    "from pqp.causal.graph import Graph\n",
    "from pqp.parametric.categorical_distribution import CategoricalDistribution\n",
    "from pqp.causal.estimands import *\n",
    "from pqp.symbols import *"
   ]
  },
  {
   "cell_type": "code",
   "execution_count": 7,
   "metadata": {},
   "outputs": [
    {
     "name": "stdout",
     "output_type": "stream",
     "text": [
      "{'bar': 1}\n",
      "1\n",
      "{}\n"
     ]
    },
    {
     "ename": "KeyError",
     "evalue": "'bar'",
     "output_type": "error",
     "traceback": [
      "\u001b[0;31m---------------------------------------------------------------------------\u001b[0m",
      "\u001b[0;31mKeyError\u001b[0m                                  Traceback (most recent call last)",
      "Cell \u001b[0;32mIn[7], line 6\u001b[0m\n\u001b[1;32m      3\u001b[0m     \u001b[39mprint\u001b[39m(kwargs[\u001b[39m\"\u001b[39m\u001b[39mbar\u001b[39m\u001b[39m\"\u001b[39m])\n\u001b[1;32m      5\u001b[0m foo(bar\u001b[39m=\u001b[39m\u001b[39m1\u001b[39m)\n\u001b[0;32m----> 6\u001b[0m foo()\n",
      "Cell \u001b[0;32mIn[7], line 3\u001b[0m, in \u001b[0;36mfoo\u001b[0;34m(**kwargs)\u001b[0m\n\u001b[1;32m      1\u001b[0m \u001b[39mdef\u001b[39;00m \u001b[39mfoo\u001b[39m(\u001b[39m*\u001b[39m\u001b[39m*\u001b[39mkwargs):\n\u001b[1;32m      2\u001b[0m     \u001b[39mprint\u001b[39m(kwargs)\n\u001b[0;32m----> 3\u001b[0m     \u001b[39mprint\u001b[39m(kwargs[\u001b[39m\"\u001b[39;49m\u001b[39mbar\u001b[39;49m\u001b[39m\"\u001b[39;49m])\n",
      "\u001b[0;31mKeyError\u001b[0m: 'bar'"
     ]
    }
   ],
   "source": [
    "def foo(**kwargs):\n",
    "    print(kwargs)\n",
    "    print(kwargs[\"bar\"])\n",
    "\n",
    "foo(bar=1)\n",
    "foo()"
   ]
  },
  {
   "cell_type": "code",
   "execution_count": 5,
   "metadata": {},
   "outputs": [
    {
     "data": {
      "text/latex": [
       "$\\displaystyle E_y \\big[ P(y \\mid \\text{do}(x = 0)) \\big] - E_y \\big[ P(y \\mid \\text{do}(x = 1)) \\big]$"
      ],
      "text/plain": [
       "<IPython.core.display.Math object>"
      ]
     },
     "metadata": {},
     "output_type": "display_data"
    },
    {
     "data": {
      "text/latex": [
       "$\\displaystyle E_y \\big[ P(y \\mid \\text{do}(x = 1)) \\big] - E_y \\big[ P(y \\mid \\text{do}(x = 0)) \\big]$"
      ],
      "text/plain": [
       "<IPython.core.display.Math object>"
      ]
     },
     "metadata": {},
     "output_type": "display_data"
    }
   ],
   "source": [
    "    x, y, z = make_vars(\"xyz\")\n",
    "ATE(y, {x: 1}, {x: 0}).expression().display()\n",
    "(Expectation(y, P(y, given=do(x.val == 1))) - Expectation(y, P(y, given=[do(x.val == 0)]))).display()"
   ]
  },
  {
   "cell_type": "code",
   "execution_count": 2,
   "metadata": {},
   "outputs": [],
   "source": [
    "severity = np.array([0, 1])\n",
    "treatment = severity                            # perfect doctor\n",
    "pathway = (1-treatment)*0.3                     # treatment => 0, control => 0.5\n",
    "outcome = (severity + pathway)                  # higher is worse\n",
    "\n",
    "df = pd.DataFrame({\n",
    "    \"severity\": severity,\n",
    "    \"treatment\": treatment,\n",
    "    \"pathway\": pathway,\n",
    "    \"outcome\": outcome,\n",
    "})\n",
    "\n",
    "data = Data(df, {\n",
    "    \"severity\": \"discrete\",\n",
    "    \"treatment\": \"discrete\",\n",
    "    \"pathway\": \"discrete\",\n",
    "    \"outcome\": \"discrete\",\n",
    "})\n",
    "\n",
    "v = data.vars"
   ]
  },
  {
   "cell_type": "code",
   "execution_count": 6,
   "metadata": {},
   "outputs": [
    {
     "name": "stdout",
     "output_type": "stream",
     "text": [
      "god interventional\n"
     ]
    },
    {
     "data": {
      "text/latex": [
       "$\\displaystyle \\sum_{severity, pathway} \\big({P(severity) P(severity, treatment, pathway, outcome) \\over P(severity, treatment)}\\big)$"
      ],
      "text/plain": [
       "<IPython.core.display.Math object>"
      ]
     },
     "metadata": {},
     "output_type": "display_data"
    }
   ],
   "source": [
    "god_model = Model(\n",
    "    CategoricalDistribution(data, prior=0.1),\n",
    "    Graph([\n",
    "        v.outcome <= [v.pathway, v.severity],\n",
    "        v.pathway <= v.treatment,\n",
    "        v.treatment <= v.severity,\n",
    "    ])\n",
    ")\n",
    "est = god_model.estimand(\"outcome\", do=[\"treatment\"])\n",
    "print(\"god interventional\")\n",
    "est.display()"
   ]
  },
  {
   "cell_type": "code",
   "execution_count": null,
   "metadata": {},
   "outputs": [],
   "source": []
  },
  {
   "cell_type": "code",
   "execution_count": 11,
   "metadata": {},
   "outputs": [
    {
     "data": {
      "text/html": [
       "<div>\n",
       "<style scoped>\n",
       "    .dataframe tbody tr th:only-of-type {\n",
       "        vertical-align: middle;\n",
       "    }\n",
       "\n",
       "    .dataframe tbody tr th {\n",
       "        vertical-align: top;\n",
       "    }\n",
       "\n",
       "    .dataframe thead th {\n",
       "        text-align: right;\n",
       "    }\n",
       "</style>\n",
       "<table border=\"1\" class=\"dataframe\">\n",
       "  <thead>\n",
       "    <tr style=\"text-align: right;\">\n",
       "      <th></th>\n",
       "      <th>severity</th>\n",
       "      <th>treatment</th>\n",
       "      <th>pathway</th>\n",
       "      <th>outcome</th>\n",
       "    </tr>\n",
       "  </thead>\n",
       "  <tbody>\n",
       "    <tr>\n",
       "      <th>0</th>\n",
       "      <td>1</td>\n",
       "      <td>1</td>\n",
       "      <td>0.0</td>\n",
       "      <td>0.0</td>\n",
       "    </tr>\n",
       "    <tr>\n",
       "      <th>1</th>\n",
       "      <td>0</td>\n",
       "      <td>0</td>\n",
       "      <td>0.5</td>\n",
       "      <td>0.5</td>\n",
       "    </tr>\n",
       "    <tr>\n",
       "      <th>2</th>\n",
       "      <td>1</td>\n",
       "      <td>1</td>\n",
       "      <td>0.0</td>\n",
       "      <td>0.0</td>\n",
       "    </tr>\n",
       "    <tr>\n",
       "      <th>3</th>\n",
       "      <td>1</td>\n",
       "      <td>1</td>\n",
       "      <td>0.0</td>\n",
       "      <td>0.0</td>\n",
       "    </tr>\n",
       "    <tr>\n",
       "      <th>4</th>\n",
       "      <td>0</td>\n",
       "      <td>0</td>\n",
       "      <td>0.5</td>\n",
       "      <td>0.5</td>\n",
       "    </tr>\n",
       "  </tbody>\n",
       "</table>\n",
       "</div>"
      ],
      "text/plain": [
       "   severity  treatment  pathway  outcome\n",
       "0         1          1      0.0      0.0\n",
       "1         0          0      0.5      0.5\n",
       "2         1          1      0.0      0.0\n",
       "3         1          1      0.0      0.0\n",
       "4         0          0      0.5      0.5"
      ]
     },
     "execution_count": 11,
     "metadata": {},
     "output_type": "execute_result"
    }
   ],
   "source": [
    "np.random.seed(137)\n",
    "n = 5\n",
    "\n",
    "# severity = np.random.binomial(3, 0.5, size=n)\n",
    "# doctor_noise = np.random.binomial(1, 0.1, size=n)\n",
    "# print((severity > 1).astype(int))\n",
    "# print(doctor_noise)\n",
    "# treatment = ((severity > 1) != doctor_noise).astype(int)\n",
    "\n",
    "# # print(treatment)\n",
    "\n",
    "# pathway_predisposition = 0# np.random.binomial(2, 0.5, size=n)\n",
    "# pathway = pathway_predisposition - treatment\n",
    "\n",
    "# outcome_noise = 0#np.random.binomial(2, 0.5, size=n)\n",
    "# outcome = pathway + severity + outcome_noise\n",
    "\n",
    "severity = np.random.binomial(1, 0.5, size=n)\n",
    "treatment = severity                            # perfect doctor\n",
    "pathway = (1-treatment)*0.5                     # treatment => 0, control => 0.5\n",
    "outcome = 1 - (severity + pathway)              # higher is worse\n",
    "\n",
    "df = pd.DataFrame({\n",
    "    \"severity\": severity,\n",
    "    \"treatment\": treatment,\n",
    "    \"pathway\": pathway,\n",
    "    \"outcome\": outcome,\n",
    "})\n",
    "\n",
    "df.head(10)"
   ]
  },
  {
   "cell_type": "code",
   "execution_count": 12,
   "metadata": {},
   "outputs": [],
   "source": [
    "data = Data(df, {\n",
    "    \"severity\": \"binary\",\n",
    "    \"treatment\": \"binary\",\n",
    "    \"pathway\": \"discrete\",\n",
    "    \"outcome\": \"discrete\",\n",
    "})\n",
    "\n",
    "dist = CategoricalDistribution(data, prior=1)"
   ]
  },
  {
   "cell_type": "code",
   "execution_count": 13,
   "metadata": {},
   "outputs": [
    {
     "data": {
      "text/plain": [
       "0.03571428571428571"
      ]
     },
     "execution_count": 13,
     "metadata": {},
     "output_type": "execute_result"
    }
   ],
   "source": [
    "naive_graph = Graph([data.vars.outcome <= data.vars.treatment])\n",
    "naive_model = Model(dist, naive_graph)\n",
    "\n",
    "naive_model.expectation(\"outcome\", do={\"treatment\": 1})"
   ]
  },
  {
   "cell_type": "code",
   "execution_count": 14,
   "metadata": {},
   "outputs": [],
   "source": [
    "graph = Graph([\n",
    "    data.vars.outcome <= data.vars.pathway,\n",
    "    data.vars.pathway <= data.vars.treatment,\n",
    "    data.vars.treatment & data.vars.outcome,\n",
    "])\n",
    "\n",
    "model = Model(dist, graph)\n"
   ]
  },
  {
   "attachments": {},
   "cell_type": "markdown",
   "metadata": {},
   "source": [
    "$$\n",
    "\\sum_{m} \\big({\\sum_{x} \\big({P(x) P(x, m, y) \\over P(x, m)}\\big) P(x, m) \\over P(x)}\\big)\n",
    "$$"
   ]
  },
  {
   "attachments": {},
   "cell_type": "markdown",
   "metadata": {},
   "source": [
    "$$\n",
    "\\big({\\sum_{x} \\big({P(x) P(x, m=0, y) \\over P(x, m=0)}\\big) P(x, m=0) \\over P(x)}\\big) + \\big({\\sum_{x} \\big({P(x) P(x, m=1, y) \\over P(x, m=1)}\\big) P(x, m=1) \\over P(x)}\\big)\n",
    "$$"
   ]
  },
  {
   "attachments": {},
   "cell_type": "markdown",
   "metadata": {},
   "source": [
    "$$\n",
    "P(m=0 | x)\\big({P(x=0) P(x=0, m=0, y) \\over P(x=0, m=0)} + {P(x=1) P(x=1, m=0, y) \\over P(x=1, m=0)}\\big) +\\\\\n",
    "P(m=1 | x)\\big({P(x=0) P(x=0, m=1, y) \\over P(x=0, m=1)} + {P(x=1) P(x=1, m=1, y) \\over P(x=1, m=1)}\\big)\n",
    "$$"
   ]
  },
  {
   "attachments": {},
   "cell_type": "markdown",
   "metadata": {},
   "source": [
    "$$\n",
    "P(m=0 | x)P(x=0) P(y | x=0, m=0) + P(m=0 | x)P(x=1) P(y | x=1, m=0) +\\\\\n",
    "P(m=1 | x)P(x=0) P(y | x=0, m=1) + P(m=1 | x)P(x=1) P(y  | x=1, m=1)\n",
    "$$"
   ]
  },
  {
   "attachments": {},
   "cell_type": "markdown",
   "metadata": {},
   "source": [
    "$$\n",
    "P(y=0 | do(x = 1)) =\n",
    "P(m=0 | x=1)P(x=0) P(y=0 | x=0, m=0) + P(m=0 | x=1)P(x=1) P(y | x=1, m=0) +\\\\\n",
    "P(m=1 | x=1)P(x=0) P(y=0 | x=0, m=1) + P(m=1 | x=1)P(x=1) P(y | x=1, m=1)\n",
    "$$"
   ]
  },
  {
   "attachments": {},
   "cell_type": "markdown",
   "metadata": {},
   "source": [
    "$$\n",
    "P(y = 1 | do(x = 1)) = \\\\\n",
    "P(m=0 | x= 1)P(x=0) P(y= 1 | x=0, m=0) + P(m=0 | x= 1)P(x=1) P(y= 1 | x=1, m=0) +\\\\\n",
    "P(m=1 | x= 1)P(x=0) P(y= 1 | x=0, m=1) + P(m=1 | x= 1)P(x=1) P(y= 1  | x=1, m=1)\n",
    "$$"
   ]
  },
  {
   "attachments": {},
   "cell_type": "markdown",
   "metadata": {},
   "source": [
    "x | m | y | P\n",
    "---|---|---|---\n",
    "0 | 0 | 0 | $\\epsilon$\n",
    "0 | 0 | 1 | $\\epsilon$\n",
    "0 | 1 | 0 | $\\epsilon$\n",
    "0 | 1 | 1 | 0.5\n",
    "1 | 0 | 0 | $\\epsilon$\n",
    "1 | 0 | 1 | 0.5\n",
    "1 | 1 | 0 | $\\epsilon$\n",
    "1 | 1 | 1 | $\\epsilon$"
   ]
  },
  {
   "attachments": {},
   "cell_type": "markdown",
   "metadata": {},
   "source": [
    "$$\n",
    "P(y = 1 | do(x = 1)) = \n",
    "1 * 1 * 0.5 + 0 * 0.5 * 1 +\\\\\n",
    "0 * 0.5 * 1 + 0 * 0.5 * 0.5\n",
    "$$\n",
    "\n",
    "$$\n",
    "P(y = 1 | do(x = 1)) = \n",
    "0.5\n",
    "$$"
   ]
  },
  {
   "attachments": {},
   "cell_type": "markdown",
   "metadata": {},
   "source": [
    "$$\n",
    "P(y=0 | do(x = 1)) =\n",
    "1 * 0.5 * 0.5 + 0 * 0.5 * 0 +\\\\\n",
    "0 * 0.5 * 0 + 0 * 0.5 * 0.5\n",
    "$$\n",
    "\n",
    "$$\n",
    "P(y=0 | do(x = 1)) = 0.25\n",
    "$$"
   ]
  },
  {
   "cell_type": "markdown",
   "metadata": {},
   "source": []
  }
 ],
 "metadata": {
  "kernelspec": {
   "display_name": "venv",
   "language": "python",
   "name": "python3"
  },
  "language_info": {
   "codemirror_mode": {
    "name": "ipython",
    "version": 3
   },
   "file_extension": ".py",
   "mimetype": "text/x-python",
   "name": "python",
   "nbconvert_exporter": "python",
   "pygments_lexer": "ipython3",
   "version": "3.10.0"
  },
  "orig_nbformat": 4,
  "vscode": {
   "interpreter": {
    "hash": "bbbf304047aac1d8dfa956a63cc2cea0a93c42bcd915750832b2326b8115e97d"
   }
  }
 },
 "nbformat": 4,
 "nbformat_minor": 2
}
