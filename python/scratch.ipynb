{
 "cells": [
  {
   "cell_type": "code",
   "execution_count": 1,
   "metadata": {},
   "outputs": [],
   "source": [
    "import numpy as np\n",
    "import pandas as pd\n",
    "from pqp.data.data import Data\n",
    "from pqp.estimation.model import Model\n",
    "from pqp.causal.graph import Graph\n",
    "from pqp.parametric.categorical_distribution import CategoricalDistribution\n",
    "from pqp.causal.estimands import *\n",
    "from pqp.symbols import *"
   ]
  },
  {
   "cell_type": "code",
   "execution_count": 2,
   "metadata": {},
   "outputs": [
    {
     "name": "stdout",
     "output_type": "stream",
     "text": [
      "Calling foo with (<__main__.Bar object at 0x1036cac50>, 'hi') and {}\n",
      "hi\n"
     ]
    }
   ],
   "source": [
    "def foodec(func):\n",
    "    def wrapper(*args, **kwargs):\n",
    "        print(f\"Calling {func.__name__} with {args} and {kwargs}\")\n",
    "        return func(*args, **kwargs)\n",
    "    return wrapper\n",
    "\n",
    "\n",
    "class Bar:\n",
    "    @foodec\n",
    "    def foo(self, stuff):\n",
    "        print(stuff)\n",
    "\n",
    "Bar().foo(\"hi\")"
   ]
  },
  {
   "cell_type": "code",
   "execution_count": 1,
   "metadata": {},
   "outputs": [
    {
     "data": {
      "text/plain": [
       "5"
      ]
     },
     "execution_count": 1,
     "metadata": {},
     "output_type": "execute_result"
    }
   ],
   "source": [
    "class Foo:\n",
    "    def __init__(self):\n",
    "        setattr(self, \"foo\", 5)\n",
    "\n",
    "foo = Foo()\n",
    "foo.foo"
   ]
  },
  {
   "cell_type": "code",
   "execution_count": 2,
   "metadata": {},
   "outputs": [
    {
     "data": {
      "text/plain": [
       "[Assumption('x is on RealDomain([0.0, 1.5])'),\n",
       " Assumption('y is on RealDomain([0.0, 2.5])'),\n",
       " Assumption('m is on IntegerDomain([1, 6])'),\n",
       " Assumption('z is on BinaryDomain()')]"
      ]
     },
     "execution_count": 2,
     "metadata": {},
     "output_type": "execute_result"
    }
   ],
   "source": [
    "x, y, z = make_vars(\"xyz\")\n",
    "df = pd.DataFrame({\n",
    "    \"x\": [0, 1, 0, 1, 1.5, 1.5],\n",
    "    \"y\": [0, 1, 1, 2, 1.5, 2.5],\n",
    "    \"m\": [1, 2, 3, 4, 5, 6],\n",
    "    \"z\": [0, 0, 1, 1, 0, 1],\n",
    "})\n",
    "data = Data(df)\n",
    "data.assumptions"
   ]
  },
  {
   "cell_type": "code",
   "execution_count": 3,
   "metadata": {},
   "outputs": [
    {
     "data": {
      "text/plain": [
       "[Assumption('multinomial likelihood')]"
      ]
     },
     "execution_count": 3,
     "metadata": {},
     "output_type": "execute_result"
    }
   ],
   "source": [
    "dist = CategoricalDistribution(data, prior=0.1)\n",
    "dist.result().assumptions"
   ]
  },
  {
   "cell_type": "code",
   "execution_count": 4,
   "metadata": {},
   "outputs": [
    {
     "data": {
      "text/plain": [
       "<ATE treatment_vars=[Variable(z), Variable(z)], outcome=y>"
      ]
     },
     "execution_count": 4,
     "metadata": {},
     "output_type": "execute_result"
    }
   ],
   "source": [
    "estimand = ATE(y, {z: 0}, {z: 1})\n",
    "estimand"
   ]
  },
  {
   "cell_type": "code",
   "execution_count": 5,
   "metadata": {},
   "outputs": [
    {
     "data": {
      "text/plain": [
       "Graph([DirectedEdge(start=x, end=m), DirectedEdge(start=z, end=x), DirectedEdge(start=z, end=y), DirectedEdge(start=x, end=y)])"
      ]
     },
     "execution_count": 5,
     "metadata": {},
     "output_type": "execute_result"
    }
   ],
   "source": [
    "x, y, z, m = make_vars(\"xyzm\")\n",
    "\n",
    "g = Graph([\n",
    "    y <= [x, z],\n",
    "    x <= z,\n",
    "    m <= x,\n",
    "])\n",
    "\n",
    "g"
   ]
  },
  {
   "cell_type": "code",
   "execution_count": 6,
   "metadata": {},
   "outputs": [
    {
     "data": {
      "text/plain": [
       "GraphResult()"
      ]
     },
     "execution_count": 6,
     "metadata": {},
     "output_type": "execute_result"
    }
   ],
   "source": [
    "res = g.identify(estimand)\n",
    "res"
   ]
  },
  {
   "cell_type": "code",
   "execution_count": 7,
   "metadata": {},
   "outputs": [
    {
     "ename": "TypeError",
     "evalue": "unsupported operand type(s) for +=: 'pandas._libs.interval.Interval' and 'pandas._libs.interval.Interval'",
     "output_type": "error",
     "traceback": [
      "\u001b[0;31m---------------------------------------------------------------------------\u001b[0m",
      "\u001b[0;31mTypeError\u001b[0m                                 Traceback (most recent call last)",
      "Cell \u001b[0;32mIn[7], line 1\u001b[0m\n\u001b[0;32m----> 1\u001b[0m dist\u001b[39m.\u001b[39;49mapprox(res)\n",
      "File \u001b[0;32m~/Documents/pqp/python/pqp/parametric/distribution.py:42\u001b[0m, in \u001b[0;36mDistribution.approx\u001b[0;34m(self, expr, assignments)\u001b[0m\n\u001b[1;32m     38\u001b[0m \u001b[39mif\u001b[39;00m \u001b[39mnot\u001b[39;00m free\u001b[39m.\u001b[39missubset(observed):\n\u001b[1;32m     39\u001b[0m     \u001b[39mraise\u001b[39;00m \u001b[39mValueError\u001b[39;00m(\u001b[39m\"\u001b[39m\u001b[39mcannot estimand an equation with variables not in\u001b[39m\u001b[39m\"\u001b[39m \u001b[39m+\u001b[39m\n\u001b[1;32m     40\u001b[0m         \u001b[39mf\u001b[39m\u001b[39m\"\u001b[39m\u001b[39m observed \u001b[39m\u001b[39m{\u001b[39;00mfree\u001b[39m \u001b[39m\u001b[39m-\u001b[39m\u001b[39m \u001b[39mobeserved\u001b[39m}\u001b[39;00m\u001b[39m\"\u001b[39m)\n\u001b[0;32m---> 42\u001b[0m est \u001b[39m=\u001b[39m \u001b[39mself\u001b[39;49m\u001b[39m.\u001b[39;49m_approx(expr)\n\u001b[1;32m     43\u001b[0m res \u001b[39m=\u001b[39m \u001b[39mself\u001b[39m\u001b[39m.\u001b[39mresult(\n\u001b[1;32m     44\u001b[0m     estimand\u001b[39m=\u001b[39mexpr,\n\u001b[1;32m     45\u001b[0m     value\u001b[39m=\u001b[39mest,\n\u001b[1;32m     46\u001b[0m     id_result\u001b[39m=\u001b[39mid_result,\n\u001b[1;32m     47\u001b[0m     data_result\u001b[39m=\u001b[39m\u001b[39mself\u001b[39m\u001b[39m.\u001b[39mdata\u001b[39m.\u001b[39mresult(),\n\u001b[1;32m     48\u001b[0m     )\n\u001b[1;32m     50\u001b[0m \u001b[39mreturn\u001b[39;00m res\n",
      "File \u001b[0;32m~/Documents/pqp/python/pqp/parametric/distribution.py:62\u001b[0m, in \u001b[0;36mDistribution._approx\u001b[0;34m(self, expr)\u001b[0m\n\u001b[1;32m     60\u001b[0m     res \u001b[39m=\u001b[39m \u001b[39mself\u001b[39m\u001b[39m.\u001b[39mapprox_quotient(expr)\n\u001b[1;32m     61\u001b[0m \u001b[39melif\u001b[39;00m \u001b[39misinstance\u001b[39m(expr, Difference):\n\u001b[0;32m---> 62\u001b[0m     res \u001b[39m=\u001b[39m \u001b[39mself\u001b[39;49m\u001b[39m.\u001b[39;49mapprox_difference(expr)\n\u001b[1;32m     63\u001b[0m \u001b[39melif\u001b[39;00m \u001b[39misinstance\u001b[39m(expr, Expectation):\n\u001b[1;32m     64\u001b[0m     res \u001b[39m=\u001b[39m \u001b[39mself\u001b[39m\u001b[39m.\u001b[39mapprox_expectation(expr)\n",
      "File \u001b[0;32m~/Documents/pqp/python/pqp/parametric/categorical_distribution.py:147\u001b[0m, in \u001b[0;36mCategoricalDistribution.approx_difference\u001b[0;34m(self, expr)\u001b[0m\n\u001b[1;32m    146\u001b[0m \u001b[39mdef\u001b[39;00m \u001b[39mapprox_difference\u001b[39m(\u001b[39mself\u001b[39m, expr: Difference):\n\u001b[0;32m--> 147\u001b[0m     \u001b[39mreturn\u001b[39;00m \u001b[39mself\u001b[39;49m\u001b[39m.\u001b[39;49m_approx(expr\u001b[39m.\u001b[39;49ma) \u001b[39m-\u001b[39m \u001b[39mself\u001b[39m\u001b[39m.\u001b[39m_approx(expr\u001b[39m.\u001b[39mb)\n",
      "File \u001b[0;32m~/Documents/pqp/python/pqp/parametric/distribution.py:64\u001b[0m, in \u001b[0;36mDistribution._approx\u001b[0;34m(self, expr)\u001b[0m\n\u001b[1;32m     62\u001b[0m     res \u001b[39m=\u001b[39m \u001b[39mself\u001b[39m\u001b[39m.\u001b[39mapprox_difference(expr)\n\u001b[1;32m     63\u001b[0m \u001b[39melif\u001b[39;00m \u001b[39misinstance\u001b[39m(expr, Expectation):\n\u001b[0;32m---> 64\u001b[0m     res \u001b[39m=\u001b[39m \u001b[39mself\u001b[39;49m\u001b[39m.\u001b[39;49mapprox_expectation(expr)\n\u001b[1;32m     65\u001b[0m \u001b[39melse\u001b[39;00m:\n\u001b[1;32m     66\u001b[0m     \u001b[39mraise\u001b[39;00m \u001b[39mValueError\u001b[39;00m(\u001b[39m\"\u001b[39m\u001b[39mUnsupported expression type: \u001b[39m\u001b[39m{}\u001b[39;00m\u001b[39m\"\u001b[39m\u001b[39m.\u001b[39mformat(\u001b[39mtype\u001b[39m(expr)))\n",
      "File \u001b[0;32m~/Documents/pqp/python/pqp/parametric/categorical_distribution.py:156\u001b[0m, in \u001b[0;36mCategoricalDistribution.approx_expectation\u001b[0;34m(self, expr)\u001b[0m\n\u001b[1;32m    154\u001b[0m     prob \u001b[39m=\u001b[39m \u001b[39mself\u001b[39m\u001b[39m.\u001b[39m_approx(expr\u001b[39m.\u001b[39mexpr\u001b[39m.\u001b[39massign(summation_var, val))\n\u001b[1;32m    155\u001b[0m     prob_acc \u001b[39m+\u001b[39m\u001b[39m=\u001b[39m prob\n\u001b[0;32m--> 156\u001b[0m     acc \u001b[39m+\u001b[39m\u001b[39m=\u001b[39m prob \u001b[39m*\u001b[39m val\n\u001b[1;32m    158\u001b[0m \u001b[39mif\u001b[39;00m \u001b[39mabs\u001b[39m(prob_acc \u001b[39m-\u001b[39m \u001b[39m1\u001b[39m) \u001b[39m>\u001b[39m \u001b[39m0.1\u001b[39m:\n\u001b[1;32m    159\u001b[0m     \u001b[39mraise\u001b[39;00m NumericalError(\u001b[39mf\u001b[39m\u001b[39m\"\u001b[39m\u001b[39mProbabilities do not sum to 1 (prob_acc = \u001b[39m\u001b[39m{\u001b[39;00mprob_acc\u001b[39m}\u001b[39;00m\u001b[39m)\u001b[39m\u001b[39m\"\u001b[39m)\n",
      "\u001b[0;31mTypeError\u001b[0m: unsupported operand type(s) for +=: 'pandas._libs.interval.Interval' and 'pandas._libs.interval.Interval'"
     ]
    }
   ],
   "source": [
    "dist.approx(res)"
   ]
  },
  {
   "cell_type": "code",
   "execution_count": 8,
   "metadata": {},
   "outputs": [
    {
     "data": {
      "text/plain": [
       "['__abs__',\n",
       " '__add__',\n",
       " '__and__',\n",
       " '__bool__',\n",
       " '__ceil__',\n",
       " '__class__',\n",
       " '__delattr__',\n",
       " '__dir__',\n",
       " '__divmod__',\n",
       " '__doc__',\n",
       " '__eq__',\n",
       " '__float__',\n",
       " '__floor__',\n",
       " '__floordiv__',\n",
       " '__format__',\n",
       " '__ge__',\n",
       " '__getattribute__',\n",
       " '__getnewargs__',\n",
       " '__gt__',\n",
       " '__hash__',\n",
       " '__index__',\n",
       " '__init__',\n",
       " '__init_subclass__',\n",
       " '__int__',\n",
       " '__invert__',\n",
       " '__le__',\n",
       " '__lshift__',\n",
       " '__lt__',\n",
       " '__mod__',\n",
       " '__mul__',\n",
       " '__ne__',\n",
       " '__neg__',\n",
       " '__new__',\n",
       " '__or__',\n",
       " '__pos__',\n",
       " '__pow__',\n",
       " '__radd__',\n",
       " '__rand__',\n",
       " '__rdivmod__',\n",
       " '__reduce__',\n",
       " '__reduce_ex__',\n",
       " '__repr__',\n",
       " '__rfloordiv__',\n",
       " '__rlshift__',\n",
       " '__rmod__',\n",
       " '__rmul__',\n",
       " '__ror__',\n",
       " '__round__',\n",
       " '__rpow__',\n",
       " '__rrshift__',\n",
       " '__rshift__',\n",
       " '__rsub__',\n",
       " '__rtruediv__',\n",
       " '__rxor__',\n",
       " '__setattr__',\n",
       " '__sizeof__',\n",
       " '__str__',\n",
       " '__sub__',\n",
       " '__subclasshook__',\n",
       " '__truediv__',\n",
       " '__trunc__',\n",
       " '__xor__',\n",
       " 'as_integer_ratio',\n",
       " 'bit_count',\n",
       " 'bit_length',\n",
       " 'conjugate',\n",
       " 'denominator',\n",
       " 'from_bytes',\n",
       " 'imag',\n",
       " 'numerator',\n",
       " 'real',\n",
       " 'to_bytes']"
      ]
     },
     "execution_count": 8,
     "metadata": {},
     "output_type": "execute_result"
    }
   ],
   "source": [
    "dir(5)"
   ]
  },
  {
   "cell_type": "code",
   "execution_count": null,
   "metadata": {},
   "outputs": [],
   "source": []
  }
 ],
 "metadata": {
  "kernelspec": {
   "display_name": "venv",
   "language": "python",
   "name": "python3"
  },
  "language_info": {
   "codemirror_mode": {
    "name": "ipython",
    "version": 3
   },
   "file_extension": ".py",
   "mimetype": "text/x-python",
   "name": "python",
   "nbconvert_exporter": "python",
   "pygments_lexer": "ipython3",
   "version": "3.10.0"
  },
  "orig_nbformat": 4,
  "vscode": {
   "interpreter": {
    "hash": "bbbf304047aac1d8dfa956a63cc2cea0a93c42bcd915750832b2326b8115e97d"
   }
  }
 },
 "nbformat": 4,
 "nbformat_minor": 2
}
