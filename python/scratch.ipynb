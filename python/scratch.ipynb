{
 "cells": [
  {
   "cell_type": "code",
   "execution_count": 1,
   "metadata": {},
   "outputs": [],
   "source": [
    "import numpy as np\n",
    "import pandas as pd\n",
    "from pqp.data.data import Data\n",
    "from pqp.estimation.model import Model\n",
    "from pqp.causal.graph import Graph\n",
    "from pqp.parametric.categorical_distribution import CategoricalDistribution\n",
    "from pqp.causal.estimands import *\n",
    "from pqp.symbols import *"
   ]
  },
  {
   "cell_type": "code",
   "execution_count": 2,
   "metadata": {},
   "outputs": [
    {
     "name": "stdout",
     "output_type": "stream",
     "text": [
      "{Variable(x): RealDomain([0.0, 1.5]), Variable(y): RealDomain([0.0, 2.5]), Variable(m): IntegerDomain([1, 6]), Variable(z): BinaryDomain()}\n"
     ]
    },
    {
     "data": {
      "text/plain": [
       "{Variable(x): CategoricalDomain(cardinality=2),\n",
       " Variable(y): CategoricalDomain(cardinality=2),\n",
       " Variable(m): IntegerDomain([1, 6]),\n",
       " Variable(z): BinaryDomain()}"
      ]
     },
     "execution_count": 2,
     "metadata": {},
     "output_type": "execute_result"
    }
   ],
   "source": [
    "x, y, z = make_vars(\"xyz\")\n",
    "df = pd.DataFrame({\n",
    "    \"x\": [0, 1, 0, 1, 1.5, 1.5],\n",
    "    \"y\": [0, 1, 1, 2, 1.5, 2.5],\n",
    "    \"m\": [1, 2, 3, 4, 5, 6],\n",
    "    \"z\": [0, 0, 1, 1, 0, 1],\n",
    "})\n",
    "data = Data(df)\n",
    "print(data.domains())\n",
    "\n",
    "dist = CategoricalDistribution(data, prior=0.1)\n",
    "data.domains()"
   ]
  },
  {
   "cell_type": "code",
   "execution_count": 3,
   "metadata": {},
   "outputs": [],
   "source": [
    "parametric_model = CategoricalDistribution(data, prior=0.1)\n",
    "causal_model = Graph([\n",
    "    y <= [x, z],\n",
    "    x <= z,\n",
    "    ])"
   ]
  },
  {
   "cell_type": "code",
   "execution_count": 4,
   "metadata": {},
   "outputs": [
    {
     "data": {
      "text/plain": [
       "0    (-0.0015, 0.75]\n",
       "1        (0.75, 1.5]\n",
       "2    (-0.0015, 0.75]\n",
       "3        (0.75, 1.5]\n",
       "4        (0.75, 1.5]\n",
       "5        (0.75, 1.5]\n",
       "Name: x, dtype: category\n",
       "Categories (2, interval[float64, right]): [(-0.0015, 0.75] < (0.75, 1.5]]"
      ]
     },
     "execution_count": 4,
     "metadata": {},
     "output_type": "execute_result"
    }
   ],
   "source": [
    "df.x"
   ]
  },
  {
   "cell_type": "code",
   "execution_count": null,
   "metadata": {},
   "outputs": [],
   "source": []
  }
 ],
 "metadata": {
  "kernelspec": {
   "display_name": "venv",
   "language": "python",
   "name": "python3"
  },
  "language_info": {
   "codemirror_mode": {
    "name": "ipython",
    "version": 3
   },
   "file_extension": ".py",
   "mimetype": "text/x-python",
   "name": "python",
   "nbconvert_exporter": "python",
   "pygments_lexer": "ipython3",
   "version": "3.10.0"
  },
  "orig_nbformat": 4,
  "vscode": {
   "interpreter": {
    "hash": "bbbf304047aac1d8dfa956a63cc2cea0a93c42bcd915750832b2326b8115e97d"
   }
  }
 },
 "nbformat": 4,
 "nbformat_minor": 2
}
